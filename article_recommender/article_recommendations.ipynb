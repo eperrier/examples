{
 "cells": [
  {
   "cell_type": "markdown",
   "metadata": {
    "id": "Fb53FkdrRB-K"
   },
   "source": [
    "# Personalized Article Recommendation Engine (Example)"
   ]
  },
  {
   "cell_type": "markdown",
   "metadata": {
    "id": "yRoiji_IRB-O"
   },
   "source": [
    "This notebook demonstrates how to use Pinecone's similarity search to create a simple personalized article or content recommender."
   ]
  },
  {
   "cell_type": "markdown",
   "metadata": {
    "id": "E3wl_OoRRB-P"
   },
   "source": [
    "The goal is to create a recommendation engine that retrieves the best article recommendations for each user. When making recommendations with content-based filtering, we evaluate the user’s past behavior and the content items themselves. So in this example, users will be recommended articles that are similar to those they've already read.\n",
    "\n",
    "\n"
   ]
  },
  {
   "cell_type": "markdown",
   "metadata": {
    "id": "0Of_-qU8RB-P"
   },
   "source": [
    "## Install and Import Python Packages"
   ]
  },
  {
   "cell_type": "code",
   "execution_count": 1,
   "metadata": {
    "id": "UOjd2xMJRB-P"
   },
   "outputs": [],
   "source": [
    "!pip install --quiet sentence-transformers\n",
    "!pip install --quiet wordcloud\n",
    "!pip install --quiet pandas==1.2.3\n",
    "!pip install --quiet swifter"
   ]
  },
  {
   "cell_type": "code",
   "execution_count": 2,
   "metadata": {
    "id": "PodOM8HCDbrG"
   },
   "outputs": [],
   "source": [
    "import os\n",
    "import pandas as pd\n",
    "import numpy as np\n",
    "import time\n",
    "import swifter\n",
    "import re\n",
    "from wordcloud import WordCloud, STOPWORDS, ImageColorGenerator\n",
    "import matplotlib.pyplot as plt\n",
    "%matplotlib inline"
   ]
  },
  {
   "cell_type": "markdown",
   "metadata": {
    "id": "QRgkJi7tRB-T"
   },
   "source": [
    "In the following sections, we will use Pinecone to easily build an article recommendation engine. Pinecone will be responsible for storing embeddings for articles, maintaining a live index of those vectors, and returning recommended articles on-demand. "
   ]
  },
  {
   "cell_type": "markdown",
   "metadata": {
    "id": "V0zk26pXDbrH"
   },
   "source": [
    "## Pinecone Installation and Setup"
   ]
  },
  {
   "cell_type": "code",
   "execution_count": 3,
   "metadata": {
    "id": "RcIRWCpkDbrH"
   },
   "outputs": [],
   "source": [
    "!pip install --quiet -U pinecone-client"
   ]
  },
  {
   "cell_type": "code",
   "execution_count": 4,
   "metadata": {
    "id": "d8meZcx9RB-T"
   },
   "outputs": [],
   "source": [
    "import pinecone"
   ]
  },
  {
   "cell_type": "code",
   "execution_count": 5,
   "metadata": {
    "id": "z6y1BNXHRB-T"
   },
   "outputs": [],
   "source": [
    "# Load Pinecone API key\n",
    "api_key = os.getenv(\"PINECONE_API_KEY\") or \"YOUR_API_KEY\"\n",
    "pinecone.init(api_key=api_key, environment='us-west1-gcp')"
   ]
  },
  {
   "cell_type": "markdown",
   "metadata": {
    "id": "kSnyzrI7RB-U"
   },
   "source": [
    "[Get a Pinecone API key](https://www.pinecone.io/start/) if you don’t have one already."
   ]
  },
  {
   "cell_type": "markdown",
   "metadata": {
    "id": "fUpRsxVoRB-U"
   },
   "source": [
    "## Setting up Pinecone's Similarity Search Service\n"
   ]
  },
  {
   "cell_type": "markdown",
   "metadata": {
    "id": "sZWD6IJ3RB-U"
   },
   "source": [
    "The typical workflow when using Pinecone:\n",
    "\n",
    "1. Create an index.\n",
    "2. Create a connection to the index, and start sending insert and query requests."
   ]
  },
  {
   "cell_type": "markdown",
   "metadata": {
    "id": "aSHahdoKRB-U"
   },
   "source": [
    "### Create an index"
   ]
  },
  {
   "cell_type": "code",
   "execution_count": 6,
   "metadata": {
    "id": "TRO3nTAhRB-U"
   },
   "outputs": [],
   "source": [
    "index_name = 'articles-recommendation'"
   ]
  },
  {
   "cell_type": "code",
   "execution_count": 7,
   "metadata": {
    "id": "gIYrbR6-RB-U"
   },
   "outputs": [],
   "source": [
    "# Check whether the index with the same name already exists\n",
    "if index_name in pinecone.list_indexes():\n",
    "    pinecone.delete_index(index_name)"
   ]
  },
  {
   "cell_type": "code",
   "execution_count": 8,
   "metadata": {
    "id": "2I8VxbZCRB-U"
   },
   "outputs": [],
   "source": [
    "pinecone.create_index(index_name, dimension=300, metric=\"cosine\", shards=1)"
   ]
  },
  {
   "cell_type": "markdown",
   "metadata": {
    "id": "1isEp12QRB-V"
   },
   "source": [
    "### Create the connection to the new index"
   ]
  },
  {
   "cell_type": "code",
   "execution_count": 10,
   "metadata": {
    "colab": {
     "base_uri": "https://localhost:8080/"
    },
    "id": "azdsH_aeRB-V",
    "outputId": "e58dd023-42b7-47ea-bfd8-561c7695d321"
   },
   "outputs": [
    {
     "data": {
      "text/plain": [
       "{'dimension': 0, 'namespaces': {}}"
      ]
     },
     "execution_count": 10,
     "metadata": {},
     "output_type": "execute_result"
    }
   ],
   "source": [
    "index = pinecone.Index(index_name)\n",
    "index.describe_index_stats()"
   ]
  },
  {
   "cell_type": "markdown",
   "metadata": {
    "id": "05yNGSguRB-V"
   },
   "source": [
    "## Upload articles\n",
    "Next, we will prepare data for the Pinecone vector index, and insert it in batches."
   ]
  },
  {
   "cell_type": "markdown",
   "metadata": {
    "id": "dARvyedFRB-Q"
   },
   "source": [
    "###  Load data"
   ]
  },
  {
   "cell_type": "markdown",
   "metadata": {
    "id": "RfKRg-IqRB-R"
   },
   "source": [
    "The [dataset](https://components.one/datasets/all-the-news-2-news-articles-dataset/) used throughout this example contains 2.7 million news articles and essays from 27 American publications. "
   ]
  },
  {
   "cell_type": "markdown",
   "metadata": {
    "id": "Gu4sAgkfRB-R"
   },
   "source": [
    "Let's download the dataset."
   ]
  },
  {
   "cell_type": "code",
   "execution_count": 11,
   "metadata": {
    "id": "J5xQaXWmRB-R"
   },
   "outputs": [],
   "source": [
    "!rm all-the-news-2-1.zip\n",
    "!rm all-the-news-2-1.csv\n",
    "!wget https://www.dropbox.com/s/cn2utnr5ipathhh/all-the-news-2-1.zip -q --show-progress\n",
    "!unzip -q all-the-news-2-1.zip"
   ]
  },
  {
   "cell_type": "markdown",
   "metadata": {
    "id": "p-jcFPPaRB-S"
   },
   "source": [
    "### Use Ready Made Vector Embedding Model"
   ]
  },
  {
   "cell_type": "markdown",
   "metadata": {
    "id": "hytn3DeYRB-S"
   },
   "source": [
    "Model used in this example is the [Average Word Embeddings Models](https://www.sbert.net/docs/pretrained_models.html#average-word-embeddings-models). This model allows us to create vector embeddings for each article. We will create the vectors using the title and the content of each article."
   ]
  },
  {
   "cell_type": "code",
   "execution_count": 12,
   "metadata": {
    "id": "VxzOvUY3DbrO"
   },
   "outputs": [],
   "source": [
    "from sentence_transformers import SentenceTransformer\n",
    "\n",
    "model = SentenceTransformer('average_word_embeddings_komninos')"
   ]
  },
  {
   "cell_type": "markdown",
   "metadata": {
    "id": "3gUwkVTYDbrO"
   },
   "source": [
    "Using the complete dataset may require more time for the model to generate vector embeddings. We will use only a sample, but if you want to try uploading the whole dataset, set the **NROWS** flag to **None**."
   ]
  },
  {
   "cell_type": "code",
   "execution_count": 13,
   "metadata": {
    "id": "F0dUR-mMDbrP"
   },
   "outputs": [],
   "source": [
    "NROWS = 200000      # number of rows to be loaded from the csv, set to None for loading all rows, reduce if you have a low amount of RAM or want a faster execution\n",
    "BATCH_SIZE = 500    # batch size for upserting in batches"
   ]
  },
  {
   "cell_type": "markdown",
   "metadata": {
    "id": "GwCoQY5yDbrP"
   },
   "source": [
    "### Upload data in batches"
   ]
  },
  {
   "cell_type": "markdown",
   "metadata": {
    "id": "GYouYV1DDbrP"
   },
   "source": [
    "Let's prepare data for upload."
   ]
  },
  {
   "cell_type": "markdown",
   "metadata": {
    "id": "3GwTGPZWDbrR"
   },
   "source": [
    "Uploading the data may take a while, and depends on the network you use."
   ]
  },
  {
   "cell_type": "code",
   "execution_count": 14,
   "metadata": {
    "colab": {
     "base_uri": "https://localhost:8080/",
     "height": 188,
     "referenced_widgets": [
      "06b772dd8d7f4b9187ba4daf010f194a",
      "f17a249945354d14a59ea85d594d5cfd",
      "4eb65a154cfe44569f6ce5c19381eaef",
      "2afb6c6849e8490abc69c6d919d07493",
      "c757619b7bb6480985c31b8e564a563e",
      "8f35677afa9b4b72aff187682db6041c",
      "20621de615164b62810f5d2e4132368c",
      "7ae5db51f1b0414db4a0d9dcc133ba73",
      "cc4dc36e4a214ccc9afc8456e9173c34",
      "af8259be673a436594a53f513d5bf5cd",
      "4b760e4795614d1a8b1a9c78e91e0fc8",
      "e668bc0431a04f52bb7fe4101b0d815a",
      "7e2f50823ea94c50a4a4e625d48a876b",
      "d839bd98c05d4ba782bb93a95ff22c77",
      "b3111990b3d248c184e877a84da26cbf",
      "2bc63d3789b64c659db75d2927346e8e",
      "87d2fb57dff5454e841e6549e7f6694a",
      "9174b4d3e4c045a685e61227f95031ae",
      "9e0c79e390774cd6814728392d1c4e06",
      "c0ffc24f570c4e07b128589551431252",
      "511d2cb918654824a18513b93bc9c566",
      "ea4cf8b2e46b4cd69de1a0a4c489a10e"
     ]
    },
    "id": "aQwP2ufHRB-W",
    "outputId": "d2de1764-41f9-4c7c-f82b-d5184e8ceab5",
    "scrolled": true
   },
   "outputs": [
    {
     "name": "stderr",
     "output_type": "stream",
     "text": [
      "/usr/local/lib/python3.7/dist-packages/IPython/core/interactiveshell.py:2822: DtypeWarning: Columns (6,10) have mixed types.Specify dtype option on import or set low_memory=False.\n",
      "  if self.run_code(code, result):\n"
     ]
    },
    {
     "name": "stdout",
     "output_type": "stream",
     "text": [
      "Preparing data...\n"
     ]
    },
    {
     "data": {
      "application/vnd.jupyter.widget-view+json": {
       "model_id": "06b772dd8d7f4b9187ba4daf010f194a",
       "version_major": 2,
       "version_minor": 0
      },
      "text/plain": [
       "Pandas Apply:   0%|          | 0/200000 [00:00<?, ?it/s]"
      ]
     },
     "metadata": {},
     "output_type": "display_data"
    },
    {
     "name": "stdout",
     "output_type": "stream",
     "text": [
      "Encoding articles...\n"
     ]
    },
    {
     "data": {
      "application/vnd.jupyter.widget-view+json": {
       "model_id": "e668bc0431a04f52bb7fe4101b0d815a",
       "version_major": 2,
       "version_minor": 0
      },
      "text/plain": [
       "Batches:   0%|          | 0/6250 [00:00<?, ?it/s]"
      ]
     },
     "metadata": {},
     "output_type": "display_data"
    },
    {
     "name": "stdout",
     "output_type": "stream",
     "text": [
      "Uploading items\n"
     ]
    }
   ],
   "source": [
    "#%%time     \n",
    "\n",
    "def prepare_data(data) -> pd.DataFrame:\n",
    "    'Preprocesses data and prepares it for upsert.'\n",
    "    \n",
    "    # rename id column and remove unnecessary columns\n",
    "    print(\"Preparing data...\")\n",
    "    data.rename(columns={\"Unnamed: 0\": \"id\"}, inplace = True)\n",
    "    data.drop(columns=['Unnamed: 0.1', 'date'], inplace = True)\n",
    "\n",
    "    # extract only first few sentences of each article for quicker vector calculations\n",
    "    data['article'] = data['article'].fillna('')\n",
    "    data['article'] = data.article.swifter.apply(lambda x: ' '.join(re.split(r'(?<=[.:;])\\s', x)[:4]))\n",
    "    data['title_article'] = data['title'] + data['article']\n",
    "    \n",
    "    # create a vector embedding based on title and article columns\n",
    "    print('Encoding articles...')\n",
    "    encoded_articles = model.encode(data['title_article'], show_progress_bar=True)\n",
    "    data['article_vector'] = pd.Series(encoded_articles.tolist())\n",
    "    \n",
    "    return data\n",
    "\n",
    "\n",
    "def upload_items(data):\n",
    "    'Uploads data in batches.'\n",
    "    print(\"Uploading items\")\n",
    "    \n",
    "    # create a list of items for upload\n",
    "    items_to_upload = [(str(row.id), row.article_vector) for i,row in data.iterrows()]\n",
    "    \n",
    "    # upsert\n",
    "    for i in range(0, len(items_to_upload), BATCH_SIZE):\n",
    "        index.upsert(vectors=items_to_upload[i:i+BATCH_SIZE])\n",
    "\n",
    "    \n",
    "def process_file(filename: str) -> pd.DataFrame:\n",
    "    'Reads csv files in chunks, prepares and uploads data.'\n",
    "    \n",
    "    data = pd.read_csv(filename, nrows=NROWS)\n",
    "    data = prepare_data(data)\n",
    "    upload_items(data)\n",
    "    return data\n",
    "            \n",
    "uploaded_data = process_file(filename='all-the-news-2-1.csv')"
   ]
  },
  {
   "cell_type": "code",
   "execution_count": 15,
   "metadata": {
    "colab": {
     "base_uri": "https://localhost:8080/"
    },
    "id": "IP75eE73RB-W",
    "outputId": "0473e244-14d9-421e-ad1c-2d7a8c46f333"
   },
   "outputs": [
    {
     "data": {
      "text/plain": [
       "{'dimension': 300, 'namespaces': {'': {'vector_count': 200000}}}"
      ]
     },
     "execution_count": 15,
     "metadata": {},
     "output_type": "execute_result"
    }
   ],
   "source": [
    "# Print index statistics\n",
    "index.describe_index_stats()"
   ]
  },
  {
   "cell_type": "markdown",
   "metadata": {
    "id": "hzFewYUHRB-W"
   },
   "source": [
    "## Querying"
   ]
  },
  {
   "cell_type": "markdown",
   "metadata": {
    "id": "FMUxnkYHDbrT"
   },
   "source": [
    "We will query the index for the specific users. The users are defined as a set of the articles that they previously read. More specifically, we will define 10 articles for each user, and based on the article embeddings, we will define a unique embedding for the user.\n",
    "\n",
    "We will create three users and query Pinecone for each of them:\n",
    "* User who likes to read Sport News\n",
    "* User who likes to read Entertainment News\n",
    "* User who likes to read Business News"
   ]
  },
  {
   "cell_type": "markdown",
   "metadata": {
    "id": "67xj_6YmRB-W"
   },
   "source": [
    "Let's define mappings for titles, sections, and publications for each article."
   ]
  },
  {
   "cell_type": "code",
   "execution_count": 16,
   "metadata": {
    "id": "QeOB44lFRB-W"
   },
   "outputs": [],
   "source": [
    "titles_mapped = dict(zip(uploaded_data.id, uploaded_data.title))\n",
    "sections_mapped = dict(zip(uploaded_data.id, uploaded_data.section))\n",
    "publications_mapped = dict(zip(uploaded_data.id, uploaded_data.publication))"
   ]
  },
  {
   "cell_type": "markdown",
   "metadata": {
    "id": "AJiJmawnRB-W"
   },
   "source": [
    "Also, we will define a function that uses *wordcloud* to visualize results."
   ]
  },
  {
   "cell_type": "code",
   "execution_count": 17,
   "metadata": {
    "id": "YKkpgH7CRB-X"
   },
   "outputs": [],
   "source": [
    "def get_wordcloud_for_user(recommendations):\n",
    "\n",
    "    stopwords = set(STOPWORDS).union([np.nan, 'NaN', 'S'])\n",
    "\n",
    "    wordcloud = WordCloud(\n",
    "                   max_words=50000, \n",
    "                   min_font_size =12, \n",
    "                   max_font_size=50, \n",
    "                   relative_scaling = 0.9, \n",
    "                   stopwords=set(STOPWORDS),\n",
    "                   normalize_plurals= True\n",
    "    )\n",
    "\n",
    "    clean_titles = [word for word in recommendations.title.values if word not in stopwords]\n",
    "    title_wordcloud = wordcloud.generate(' '.join(clean_titles))\n",
    "\n",
    "    plt.imshow(title_wordcloud, interpolation='bilinear')\n",
    "    plt.axis(\"off\")\n",
    "    plt.show()"
   ]
  },
  {
   "cell_type": "markdown",
   "metadata": {
    "id": "3EGTDEZ5DbrV"
   },
   "source": [
    "Let's query the Pinecone index using three users. "
   ]
  },
  {
   "cell_type": "markdown",
   "metadata": {
    "id": "y8rchD2PRB-X"
   },
   "source": [
    "### Query Sports User"
   ]
  },
  {
   "cell_type": "code",
   "execution_count": 18,
   "metadata": {
    "colab": {
     "base_uri": "https://localhost:8080/",
     "height": 1000
    },
    "id": "1cEoCTOLRB-X",
    "outputId": "7c6adb1e-462b-43c5-a2f4-0842b3e683ec"
   },
   "outputs": [
    {
     "name": "stdout",
     "output_type": "stream",
     "text": [
      "\n",
      "Here is the example of previously read articles by this user:\n",
      "\n"
     ]
    },
    {
     "data": {
      "text/html": [
       "<div>\n",
       "<style scoped>\n",
       "    .dataframe tbody tr th:only-of-type {\n",
       "        vertical-align: middle;\n",
       "    }\n",
       "\n",
       "    .dataframe tbody tr th {\n",
       "        vertical-align: top;\n",
       "    }\n",
       "\n",
       "    .dataframe thead th {\n",
       "        text-align: right;\n",
       "    }\n",
       "</style>\n",
       "<table border=\"1\" class=\"dataframe\">\n",
       "  <thead>\n",
       "    <tr style=\"text-align: right;\">\n",
       "      <th></th>\n",
       "      <th>title</th>\n",
       "      <th>article</th>\n",
       "      <th>section</th>\n",
       "      <th>publication</th>\n",
       "    </tr>\n",
       "  </thead>\n",
       "  <tbody>\n",
       "    <tr>\n",
       "      <th>2261</th>\n",
       "      <td>Son of Borg makes quiet debut on London grassc...</td>\n",
       "      <td>LONDON (Reuters) - A blonde-haired, blue-eyed ...</td>\n",
       "      <td>Sports News</td>\n",
       "      <td>Reuters</td>\n",
       "    </tr>\n",
       "    <tr>\n",
       "      <th>12373</th>\n",
       "      <td>Cilic offers Nadal a Wimbledon reality check</td>\n",
       "      <td>LONDON (Reuters) - Spaniard Rafael Nadal got a...</td>\n",
       "      <td>Sports News</td>\n",
       "      <td>Reuters</td>\n",
       "    </tr>\n",
       "    <tr>\n",
       "      <th>17124</th>\n",
       "      <td>Perth confirmed as host for Fed Cup final</td>\n",
       "      <td>(Reuters) - Perth has been named host city for...</td>\n",
       "      <td>Sports News</td>\n",
       "      <td>Reuters</td>\n",
       "    </tr>\n",
       "    <tr>\n",
       "      <th>18411</th>\n",
       "      <td>Fed Cup gets revamp with 12-nation Finals in B...</td>\n",
       "      <td>LONDON (Reuters) - The Fed Cup’s existing form...</td>\n",
       "      <td>Sports News</td>\n",
       "      <td>Reuters</td>\n",
       "    </tr>\n",
       "    <tr>\n",
       "      <th>26574</th>\n",
       "      <td>Nadal to prepare for Wimbledon at Hurlingham e...</td>\n",
       "      <td>(Reuters) - World number two Rafa Nadal has en...</td>\n",
       "      <td>Sports News</td>\n",
       "      <td>Reuters</td>\n",
       "    </tr>\n",
       "    <tr>\n",
       "      <th>34957</th>\n",
       "      <td>Tennis Legend Margaret Court Went Off the Rail...</td>\n",
       "      <td>Margaret Court, the most decorated tennis play...</td>\n",
       "      <td>Sports</td>\n",
       "      <td>Vice</td>\n",
       "    </tr>\n",
       "    <tr>\n",
       "      <th>35508</th>\n",
       "      <td>Puck City: The Enduring Success of Ice Hockey ...</td>\n",
       "      <td>This article originally appeared on VICE Sport...</td>\n",
       "      <td>Sports</td>\n",
       "      <td>Vice</td>\n",
       "    </tr>\n",
       "    <tr>\n",
       "      <th>38393</th>\n",
       "      <td>As if by royal command, seven Britons make it ...</td>\n",
       "      <td>LONDON (Reuters) - Tennis fan the Duchess of C...</td>\n",
       "      <td>Sports News</td>\n",
       "      <td>Reuters</td>\n",
       "    </tr>\n",
       "    <tr>\n",
       "      <th>62445</th>\n",
       "      <td>Williams fined $17,000 for U.S. Open code viol...</td>\n",
       "      <td>NEW YORK (Reuters) - Serena Williams has been ...</td>\n",
       "      <td>Sports News</td>\n",
       "      <td>Reuters</td>\n",
       "    </tr>\n",
       "    <tr>\n",
       "      <th>84122</th>\n",
       "      <td>Kyrgios still wrestling with his tennis soul a...</td>\n",
       "      <td>LONDON (Reuters) - Timothy Gallwey’s million-s...</td>\n",
       "      <td>Sports News</td>\n",
       "      <td>Reuters</td>\n",
       "    </tr>\n",
       "  </tbody>\n",
       "</table>\n",
       "</div>"
      ],
      "text/plain": [
       "                                                   title  ... publication\n",
       "2261   Son of Borg makes quiet debut on London grassc...  ...     Reuters\n",
       "12373       Cilic offers Nadal a Wimbledon reality check  ...     Reuters\n",
       "17124          Perth confirmed as host for Fed Cup final  ...     Reuters\n",
       "18411  Fed Cup gets revamp with 12-nation Finals in B...  ...     Reuters\n",
       "26574  Nadal to prepare for Wimbledon at Hurlingham e...  ...     Reuters\n",
       "34957  Tennis Legend Margaret Court Went Off the Rail...  ...        Vice\n",
       "35508  Puck City: The Enduring Success of Ice Hockey ...  ...        Vice\n",
       "38393  As if by royal command, seven Britons make it ...  ...     Reuters\n",
       "62445  Williams fined $17,000 for U.S. Open code viol...  ...     Reuters\n",
       "84122  Kyrgios still wrestling with his tennis soul a...  ...     Reuters\n",
       "\n",
       "[10 rows x 4 columns]"
      ]
     },
     "metadata": {},
     "output_type": "display_data"
    },
    {
     "name": "stdout",
     "output_type": "stream",
     "text": [
      "\n",
      "This table contains recommended articles for the user:\n",
      "\n"
     ]
    },
    {
     "data": {
      "text/html": [
       "<div>\n",
       "<style scoped>\n",
       "    .dataframe tbody tr th:only-of-type {\n",
       "        vertical-align: middle;\n",
       "    }\n",
       "\n",
       "    .dataframe tbody tr th {\n",
       "        vertical-align: top;\n",
       "    }\n",
       "\n",
       "    .dataframe thead th {\n",
       "        text-align: right;\n",
       "    }\n",
       "</style>\n",
       "<table border=\"1\" class=\"dataframe\">\n",
       "  <thead>\n",
       "    <tr style=\"text-align: right;\">\n",
       "      <th></th>\n",
       "      <th>id</th>\n",
       "      <th>score</th>\n",
       "      <th>title</th>\n",
       "      <th>section</th>\n",
       "      <th>publication</th>\n",
       "    </tr>\n",
       "  </thead>\n",
       "  <tbody>\n",
       "    <tr>\n",
       "      <th>0</th>\n",
       "      <td>138865</td>\n",
       "      <td>0.966407</td>\n",
       "      <td>Federer survives first-set wobble to down Wimb...</td>\n",
       "      <td>Sports News</td>\n",
       "      <td>Reuters</td>\n",
       "    </tr>\n",
       "    <tr>\n",
       "      <th>1</th>\n",
       "      <td>26574</td>\n",
       "      <td>0.965867</td>\n",
       "      <td>Nadal to prepare for Wimbledon at Hurlingham e...</td>\n",
       "      <td>Sports News</td>\n",
       "      <td>Reuters</td>\n",
       "    </tr>\n",
       "    <tr>\n",
       "      <th>2</th>\n",
       "      <td>12373</td>\n",
       "      <td>0.965307</td>\n",
       "      <td>Cilic offers Nadal a Wimbledon reality check</td>\n",
       "      <td>Sports News</td>\n",
       "      <td>Reuters</td>\n",
       "    </tr>\n",
       "    <tr>\n",
       "      <th>3</th>\n",
       "      <td>155913</td>\n",
       "      <td>0.963684</td>\n",
       "      <td>U.S. men likely to wander Wimbledon wilderness...</td>\n",
       "      <td>Sports News</td>\n",
       "      <td>Reuters</td>\n",
       "    </tr>\n",
       "    <tr>\n",
       "      <th>4</th>\n",
       "      <td>60613</td>\n",
       "      <td>0.962414</td>\n",
       "      <td>Auger-Aliassime powers past Tsitsipas into Que...</td>\n",
       "      <td>Sports News</td>\n",
       "      <td>Reuters</td>\n",
       "    </tr>\n",
       "    <tr>\n",
       "      <th>5</th>\n",
       "      <td>22764</td>\n",
       "      <td>0.962373</td>\n",
       "      <td>Serena headed to Wimbledon seeking return to form</td>\n",
       "      <td>Sports News</td>\n",
       "      <td>Reuters</td>\n",
       "    </tr>\n",
       "    <tr>\n",
       "      <th>6</th>\n",
       "      <td>71768</td>\n",
       "      <td>0.962168</td>\n",
       "      <td>Venus, Serena, and the Power of Believing</td>\n",
       "      <td>Sports</td>\n",
       "      <td>Vice</td>\n",
       "    </tr>\n",
       "    <tr>\n",
       "      <th>7</th>\n",
       "      <td>2261</td>\n",
       "      <td>0.961590</td>\n",
       "      <td>Son of Borg makes quiet debut on London grassc...</td>\n",
       "      <td>Sports News</td>\n",
       "      <td>Reuters</td>\n",
       "    </tr>\n",
       "    <tr>\n",
       "      <th>8</th>\n",
       "      <td>45469</td>\n",
       "      <td>0.961451</td>\n",
       "      <td>Tennis: Barty a win away from world number one</td>\n",
       "      <td>Sports News</td>\n",
       "      <td>Reuters</td>\n",
       "    </tr>\n",
       "    <tr>\n",
       "      <th>9</th>\n",
       "      <td>55061</td>\n",
       "      <td>0.960677</td>\n",
       "      <td>Warrior on court, diplomat off it, classy Bart...</td>\n",
       "      <td>Sports News</td>\n",
       "      <td>Reuters</td>\n",
       "    </tr>\n",
       "  </tbody>\n",
       "</table>\n",
       "</div>"
      ],
      "text/plain": [
       "       id     score  ...      section publication\n",
       "0  138865  0.966407  ...  Sports News     Reuters\n",
       "1   26574  0.965867  ...  Sports News     Reuters\n",
       "2   12373  0.965307  ...  Sports News     Reuters\n",
       "3  155913  0.963684  ...  Sports News     Reuters\n",
       "4   60613  0.962414  ...  Sports News     Reuters\n",
       "5   22764  0.962373  ...  Sports News     Reuters\n",
       "6   71768  0.962168  ...       Sports        Vice\n",
       "7    2261  0.961590  ...  Sports News     Reuters\n",
       "8   45469  0.961451  ...  Sports News     Reuters\n",
       "9   55061  0.960677  ...  Sports News     Reuters\n",
       "\n",
       "[10 rows x 5 columns]"
      ]
     },
     "metadata": {},
     "output_type": "display_data"
    },
    {
     "name": "stdout",
     "output_type": "stream",
     "text": [
      "\n",
      "A word-cloud representing the results:\n",
      "\n"
     ]
    },
    {
     "data": {
      "image/png": "[encoded data removed]",
      "text/plain": [
       "<Figure size 432x288 with 1 Axes>"
      ]
     },
     "metadata": {
      "needs_background": "light"
     },
     "output_type": "display_data"
    }
   ],
   "source": [
    "from statistics import mean\n",
    "\n",
    "\n",
    "# first create a user who likes to read sport news about tennis\n",
    "sport_user = uploaded_data.loc[((uploaded_data['section'] == 'Sports News' ) | \n",
    "                                (uploaded_data['section'] == 'Sports')) &\n",
    "                                (uploaded_data['article'].str.contains('Tennis'))][:10]\n",
    "\n",
    "print('\\nHere is the example of previously read articles by this user:\\n')\n",
    "display(sport_user[['title', 'article', 'section', 'publication']])\n",
    "\n",
    "# then create a vector for this user\n",
    "a = sport_user['article_vector']\n",
    "sport_user_vector = [*map(mean, zip(*a))]\n",
    "\n",
    "# query the pinecone\n",
    "query_results = index.query(queries=[sport_user_vector], top_k=10)\n",
    "\n",
    "# print results\n",
    "res = query_results.results[0]\n",
    "ids = [match.id for match in res.matches]\n",
    "scores = [match.score for match in res.matches]\n",
    "df = pd.DataFrame({'id': ids, \n",
    "                   'score': scores,\n",
    "                   'title': [titles_mapped[int(_id)] for _id in ids],\n",
    "                   'section': [sections_mapped[int(_id)] for _id in ids],\n",
    "                   'publication': [publications_mapped[int(_id)] for _id in ids]\n",
    "                    })\n",
    "\n",
    "print(\"\\nThis table contains recommended articles for the user:\\n\")\n",
    "display(df)\n",
    "print(\"\\nA word-cloud representing the results:\\n\")\n",
    "get_wordcloud_for_user(df)"
   ]
  },
  {
   "cell_type": "markdown",
   "metadata": {
    "id": "MQetrCScRB-X"
   },
   "source": [
    "### Query Entertainment User"
   ]
  },
  {
   "cell_type": "code",
   "execution_count": 19,
   "metadata": {
    "colab": {
     "base_uri": "https://localhost:8080/",
     "height": 1000
    },
    "id": "4lnd4lI7RB-Y",
    "outputId": "9a7e27d5-60d9-4773-b0af-eeec917c5c7c"
   },
   "outputs": [
    {
     "name": "stdout",
     "output_type": "stream",
     "text": [
      "\n",
      "Here is the example of previously read articles by this user:\n",
      "\n"
     ]
    },
    {
     "data": {
      "text/html": [
       "<div>\n",
       "<style scoped>\n",
       "    .dataframe tbody tr th:only-of-type {\n",
       "        vertical-align: middle;\n",
       "    }\n",
       "\n",
       "    .dataframe tbody tr th {\n",
       "        vertical-align: top;\n",
       "    }\n",
       "\n",
       "    .dataframe thead th {\n",
       "        text-align: right;\n",
       "    }\n",
       "</style>\n",
       "<table border=\"1\" class=\"dataframe\">\n",
       "  <thead>\n",
       "    <tr style=\"text-align: right;\">\n",
       "      <th></th>\n",
       "      <th>title</th>\n",
       "      <th>article</th>\n",
       "      <th>section</th>\n",
       "      <th>publication</th>\n",
       "    </tr>\n",
       "  </thead>\n",
       "  <tbody>\n",
       "    <tr>\n",
       "      <th>4977</th>\n",
       "      <td>A Canadian Man Is Pissed That His Son Ran Up a...</td>\n",
       "      <td>A Pembroke, Ontario, gun shop owner is \"mad as...</td>\n",
       "      <td>Games</td>\n",
       "      <td>Vice</td>\n",
       "    </tr>\n",
       "    <tr>\n",
       "      <th>12016</th>\n",
       "      <td>'I Expect You to Die' is One of Virtual Realit...</td>\n",
       "      <td>The reason I bought a Vive over and Oculus ear...</td>\n",
       "      <td>Games</td>\n",
       "      <td>Vice</td>\n",
       "    </tr>\n",
       "    <tr>\n",
       "      <th>16078</th>\n",
       "      <td>Windows 10's Killer App? Xbox One Games</td>\n",
       "      <td>Microsoft's crusade to get the world to instal...</td>\n",
       "      <td>Tech by VICE</td>\n",
       "      <td>Vice</td>\n",
       "    </tr>\n",
       "    <tr>\n",
       "      <th>20318</th>\n",
       "      <td>Black Friday Not Your Thing? Play These Free G...</td>\n",
       "      <td>It's Black Friday, the oh-so-American shopping...</td>\n",
       "      <td>Games</td>\n",
       "      <td>Vice</td>\n",
       "    </tr>\n",
       "    <tr>\n",
       "      <th>25785</th>\n",
       "      <td>Nintendo’s Win at E3 Shows That It's a Console...</td>\n",
       "      <td>​ E3 has come and gone for 2016, the LA expo o...</td>\n",
       "      <td>Games</td>\n",
       "      <td>Vice</td>\n",
       "    </tr>\n",
       "    <tr>\n",
       "      <th>29653</th>\n",
       "      <td>You Can Smell Like a Gamer With Lynx’s New Xbo...</td>\n",
       "      <td>Gamers in Australia and New Zealand will soon ...</td>\n",
       "      <td>Games</td>\n",
       "      <td>Vice</td>\n",
       "    </tr>\n",
       "    <tr>\n",
       "      <th>33234</th>\n",
       "      <td>It’s Old and It’s Clunky, But You Really Must ...</td>\n",
       "      <td>When Dragon's Dogma first popped up in 2012, t...</td>\n",
       "      <td>Games</td>\n",
       "      <td>Vice</td>\n",
       "    </tr>\n",
       "    <tr>\n",
       "      <th>34617</th>\n",
       "      <td>Nintendo’s Win at E3 Shows That It's a Console...</td>\n",
       "      <td>E3 has come and gone for 2016, the LA expo of ...</td>\n",
       "      <td>Games</td>\n",
       "      <td>Vice</td>\n",
       "    </tr>\n",
       "    <tr>\n",
       "      <th>38608</th>\n",
       "      <td>PC Gaming Is Still Way Too Hard</td>\n",
       "      <td>Here's Motherboard's super simple guide to bui...</td>\n",
       "      <td>Tech by VICE</td>\n",
       "      <td>Vice</td>\n",
       "    </tr>\n",
       "    <tr>\n",
       "      <th>41444</th>\n",
       "      <td>Here’s Everything That Happened at the Xbox E3...</td>\n",
       "      <td>That's Xbox's Big Show for E3 2016 over and do...</td>\n",
       "      <td>Games</td>\n",
       "      <td>Vice</td>\n",
       "    </tr>\n",
       "  </tbody>\n",
       "</table>\n",
       "</div>"
      ],
      "text/plain": [
       "                                                   title  ... publication\n",
       "4977   A Canadian Man Is Pissed That His Son Ran Up a...  ...        Vice\n",
       "12016  'I Expect You to Die' is One of Virtual Realit...  ...        Vice\n",
       "16078            Windows 10's Killer App? Xbox One Games  ...        Vice\n",
       "20318  Black Friday Not Your Thing? Play These Free G...  ...        Vice\n",
       "25785  Nintendo’s Win at E3 Shows That It's a Console...  ...        Vice\n",
       "29653  You Can Smell Like a Gamer With Lynx’s New Xbo...  ...        Vice\n",
       "33234  It’s Old and It’s Clunky, But You Really Must ...  ...        Vice\n",
       "34617  Nintendo’s Win at E3 Shows That It's a Console...  ...        Vice\n",
       "38608                    PC Gaming Is Still Way Too Hard  ...        Vice\n",
       "41444  Here’s Everything That Happened at the Xbox E3...  ...        Vice\n",
       "\n",
       "[10 rows x 4 columns]"
      ]
     },
     "metadata": {},
     "output_type": "display_data"
    },
    {
     "name": "stdout",
     "output_type": "stream",
     "text": [
      "\n",
      "This table contains recommended articles for the user:\n",
      "\n"
     ]
    },
    {
     "data": {
      "text/html": [
       "<div>\n",
       "<style scoped>\n",
       "    .dataframe tbody tr th:only-of-type {\n",
       "        vertical-align: middle;\n",
       "    }\n",
       "\n",
       "    .dataframe tbody tr th {\n",
       "        vertical-align: top;\n",
       "    }\n",
       "\n",
       "    .dataframe thead th {\n",
       "        text-align: right;\n",
       "    }\n",
       "</style>\n",
       "<table border=\"1\" class=\"dataframe\">\n",
       "  <thead>\n",
       "    <tr style=\"text-align: right;\">\n",
       "      <th></th>\n",
       "      <th>id</th>\n",
       "      <th>score</th>\n",
       "      <th>title</th>\n",
       "      <th>section</th>\n",
       "      <th>publication</th>\n",
       "    </tr>\n",
       "  </thead>\n",
       "  <tbody>\n",
       "    <tr>\n",
       "      <th>0</th>\n",
       "      <td>34617</td>\n",
       "      <td>0.966390</td>\n",
       "      <td>Nintendo’s Win at E3 Shows That It's a Console...</td>\n",
       "      <td>Games</td>\n",
       "      <td>Vice</td>\n",
       "    </tr>\n",
       "    <tr>\n",
       "      <th>1</th>\n",
       "      <td>63293</td>\n",
       "      <td>0.965053</td>\n",
       "      <td>A Title Card vs Six Teraflops: How Metroid Sto...</td>\n",
       "      <td>Games</td>\n",
       "      <td>Vice</td>\n",
       "    </tr>\n",
       "    <tr>\n",
       "      <th>2</th>\n",
       "      <td>25785</td>\n",
       "      <td>0.964193</td>\n",
       "      <td>Nintendo’s Win at E3 Shows That It's a Console...</td>\n",
       "      <td>Games</td>\n",
       "      <td>Vice</td>\n",
       "    </tr>\n",
       "    <tr>\n",
       "      <th>3</th>\n",
       "      <td>16771</td>\n",
       "      <td>0.963487</td>\n",
       "      <td>The Lo-Fi Flaws That Define Our Favorite Old G...</td>\n",
       "      <td>Games</td>\n",
       "      <td>Vice</td>\n",
       "    </tr>\n",
       "    <tr>\n",
       "      <th>4</th>\n",
       "      <td>38608</td>\n",
       "      <td>0.960349</td>\n",
       "      <td>PC Gaming Is Still Way Too Hard</td>\n",
       "      <td>Tech by VICE</td>\n",
       "      <td>Vice</td>\n",
       "    </tr>\n",
       "    <tr>\n",
       "      <th>5</th>\n",
       "      <td>121140</td>\n",
       "      <td>0.960174</td>\n",
       "      <td>Microsoft’s New Direction All Started With the...</td>\n",
       "      <td>Tech by VICE</td>\n",
       "      <td>Vice</td>\n",
       "    </tr>\n",
       "    <tr>\n",
       "      <th>6</th>\n",
       "      <td>160409</td>\n",
       "      <td>0.959802</td>\n",
       "      <td>Sometimes a David Bowie Song Gets Your Favorit...</td>\n",
       "      <td>Tech by VICE</td>\n",
       "      <td>Vice</td>\n",
       "    </tr>\n",
       "    <tr>\n",
       "      <th>7</th>\n",
       "      <td>29653</td>\n",
       "      <td>0.959628</td>\n",
       "      <td>You Can Smell Like a Gamer With Lynx’s New Xbo...</td>\n",
       "      <td>Games</td>\n",
       "      <td>Vice</td>\n",
       "    </tr>\n",
       "    <tr>\n",
       "      <th>8</th>\n",
       "      <td>156585</td>\n",
       "      <td>0.959381</td>\n",
       "      <td>Google Takes Aim at PlayStation, Xbox With Gam...</td>\n",
       "      <td>Games</td>\n",
       "      <td>Vice</td>\n",
       "    </tr>\n",
       "    <tr>\n",
       "      <th>9</th>\n",
       "      <td>185864</td>\n",
       "      <td>0.958857</td>\n",
       "      <td>The Switch Succeeds on Nintendo's Historic \"To...</td>\n",
       "      <td>Games</td>\n",
       "      <td>Vice</td>\n",
       "    </tr>\n",
       "  </tbody>\n",
       "</table>\n",
       "</div>"
      ],
      "text/plain": [
       "       id     score  ...       section publication\n",
       "0   34617  0.966390  ...         Games        Vice\n",
       "1   63293  0.965053  ...         Games        Vice\n",
       "2   25785  0.964193  ...         Games        Vice\n",
       "3   16771  0.963487  ...         Games        Vice\n",
       "4   38608  0.960349  ...  Tech by VICE        Vice\n",
       "5  121140  0.960174  ...  Tech by VICE        Vice\n",
       "6  160409  0.959802  ...  Tech by VICE        Vice\n",
       "7   29653  0.959628  ...         Games        Vice\n",
       "8  156585  0.959381  ...         Games        Vice\n",
       "9  185864  0.958857  ...         Games        Vice\n",
       "\n",
       "[10 rows x 5 columns]"
      ]
     },
     "metadata": {},
     "output_type": "display_data"
    },
    {
     "name": "stdout",
     "output_type": "stream",
     "text": [
      "\n",
      "A word-cloud representing the results:\n",
      "\n"
     ]
    },
    {
     "data": {
      "image/png": "[encoded data removed]",
      "text/plain": [
       "<Figure size 432x288 with 1 Axes>"
      ]
     },
     "metadata": {
      "needs_background": "light"
     },
     "output_type": "display_data"
    }
   ],
   "source": [
    "# first create a user who likes to read news about Xbox\n",
    "entertainment_user = uploaded_data.loc[((uploaded_data['section'] == 'Entertainment') |\n",
    "                                        (uploaded_data['section'] == 'Games') |\n",
    "                                        (uploaded_data['section'] == 'Tech by VICE')) &\n",
    "                                        (uploaded_data['article'].str.contains('Xbox'))][:10]\n",
    "\n",
    "print('\\nHere is the example of previously read articles by this user:\\n')\n",
    "display(entertainment_user[['title', 'article', 'section', 'publication']])\n",
    "\n",
    "# then create a vector for this user\n",
    "a = entertainment_user['article_vector']\n",
    "entertainment_user_vector = [*map(mean, zip(*a))]\n",
    "\n",
    "# query the pinecone\n",
    "query_results = index.query(queries=[entertainment_user_vector], top_k=10)\n",
    "\n",
    "# print results\n",
    "res = query_results.results[0]\n",
    "ids = [match.id for match in res.matches]\n",
    "scores = [match.score for match in res.matches]\n",
    "df = pd.DataFrame({'id': ids, \n",
    "                   'score': scores,\n",
    "                   'title': [titles_mapped[int(_id)] for _id in ids],\n",
    "                   'section': [sections_mapped[int(_id)] for _id in ids],\n",
    "                   'publication': [publications_mapped[int(_id)] for _id in ids]\n",
    "                    })\n",
    "\n",
    "print(\"\\nThis table contains recommended articles for the user:\\n\")\n",
    "display(df)\n",
    "print(\"\\nA word-cloud representing the results:\\n\")\n",
    "get_wordcloud_for_user(df)"
   ]
  },
  {
   "cell_type": "markdown",
   "metadata": {
    "id": "-8Px1ifjRB-Y"
   },
   "source": [
    "### Query Business User"
   ]
  },
  {
   "cell_type": "code",
   "execution_count": 20,
   "metadata": {
    "colab": {
     "base_uri": "https://localhost:8080/",
     "height": 1000
    },
    "id": "jC_OrP41RB-Y",
    "outputId": "6311ac03-339e-4735-b348-961eaa3dd8f4"
   },
   "outputs": [
    {
     "name": "stdout",
     "output_type": "stream",
     "text": [
      "\n",
      "Here is the example of previously read articles by this user:\n",
      "\n"
     ]
    },
    {
     "data": {
      "text/html": [
       "<div>\n",
       "<style scoped>\n",
       "    .dataframe tbody tr th:only-of-type {\n",
       "        vertical-align: middle;\n",
       "    }\n",
       "\n",
       "    .dataframe tbody tr th {\n",
       "        vertical-align: top;\n",
       "    }\n",
       "\n",
       "    .dataframe thead th {\n",
       "        text-align: right;\n",
       "    }\n",
       "</style>\n",
       "<table border=\"1\" class=\"dataframe\">\n",
       "  <thead>\n",
       "    <tr style=\"text-align: right;\">\n",
       "      <th></th>\n",
       "      <th>title</th>\n",
       "      <th>article</th>\n",
       "      <th>section</th>\n",
       "      <th>publication</th>\n",
       "    </tr>\n",
       "  </thead>\n",
       "  <tbody>\n",
       "    <tr>\n",
       "      <th>370</th>\n",
       "      <td>Wall St. falls as investors eye a united hawki...</td>\n",
       "      <td>NEW YORK (Reuters) - Wall Street’s major index...</td>\n",
       "      <td>Business News</td>\n",
       "      <td>Reuters</td>\n",
       "    </tr>\n",
       "    <tr>\n",
       "      <th>809</th>\n",
       "      <td>Oil surges on tanker attacks; stocks rise on F...</td>\n",
       "      <td>NEW YORK (Reuters) - Oil futures rose on Thurs...</td>\n",
       "      <td>Business News</td>\n",
       "      <td>Reuters</td>\n",
       "    </tr>\n",
       "    <tr>\n",
       "      <th>885</th>\n",
       "      <td>A look at Tesla's nine-member board</td>\n",
       "      <td>(Reuters) - Tesla Inc’s board has named a spec...</td>\n",
       "      <td>Business News</td>\n",
       "      <td>Reuters</td>\n",
       "    </tr>\n",
       "    <tr>\n",
       "      <th>1049</th>\n",
       "      <td>Home Depot posts rare sales miss as delayed sp...</td>\n",
       "      <td>(Reuters) - Home Depot Inc (HD.N) on Tuesday m...</td>\n",
       "      <td>Business News</td>\n",
       "      <td>Reuters</td>\n",
       "    </tr>\n",
       "    <tr>\n",
       "      <th>1555</th>\n",
       "      <td>PepsiCo's mini-sized sodas boost quarterly res...</td>\n",
       "      <td>(Reuters) - PepsiCo Inc’s (PEP.O) quarterly re...</td>\n",
       "      <td>Business News</td>\n",
       "      <td>Reuters</td>\n",
       "    </tr>\n",
       "    <tr>\n",
       "      <th>1638</th>\n",
       "      <td>Wall Street extends rally on U.S.-China trade ...</td>\n",
       "      <td>NEW YORK (Reuters) - U.S. stocks rallied on Fr...</td>\n",
       "      <td>Business News</td>\n",
       "      <td>Reuters</td>\n",
       "    </tr>\n",
       "    <tr>\n",
       "      <th>1900</th>\n",
       "      <td>U.S. plans limits on Chinese investment in U.S...</td>\n",
       "      <td>WASHINGTON (Reuters) - The U.S. Treasury Depar...</td>\n",
       "      <td>Business News</td>\n",
       "      <td>Reuters</td>\n",
       "    </tr>\n",
       "    <tr>\n",
       "      <th>2109</th>\n",
       "      <td>Exxon Mobil, Chevron dogged by refining, chemi...</td>\n",
       "      <td>HOUSTON (Reuters) - Exxon Mobil Corp and Chevr...</td>\n",
       "      <td>Business News</td>\n",
       "      <td>Reuters</td>\n",
       "    </tr>\n",
       "    <tr>\n",
       "      <th>2286</th>\n",
       "      <td>Wall Street soars on U.S. rate cut hopes</td>\n",
       "      <td>NEW YORK (Reuters) - Wall Street’s three major...</td>\n",
       "      <td>Business News</td>\n",
       "      <td>Reuters</td>\n",
       "    </tr>\n",
       "    <tr>\n",
       "      <th>2563</th>\n",
       "      <td>Apple shares drop on iPhone suppliers' warnings</td>\n",
       "      <td>(Reuters) - Apple Inc (AAPL.O) shares fell to ...</td>\n",
       "      <td>Business News</td>\n",
       "      <td>Reuters</td>\n",
       "    </tr>\n",
       "  </tbody>\n",
       "</table>\n",
       "</div>"
      ],
      "text/plain": [
       "                                                  title  ... publication\n",
       "370   Wall St. falls as investors eye a united hawki...  ...     Reuters\n",
       "809   Oil surges on tanker attacks; stocks rise on F...  ...     Reuters\n",
       "885                 A look at Tesla's nine-member board  ...     Reuters\n",
       "1049  Home Depot posts rare sales miss as delayed sp...  ...     Reuters\n",
       "1555  PepsiCo's mini-sized sodas boost quarterly res...  ...     Reuters\n",
       "1638  Wall Street extends rally on U.S.-China trade ...  ...     Reuters\n",
       "1900  U.S. plans limits on Chinese investment in U.S...  ...     Reuters\n",
       "2109  Exxon Mobil, Chevron dogged by refining, chemi...  ...     Reuters\n",
       "2286           Wall Street soars on U.S. rate cut hopes  ...     Reuters\n",
       "2563    Apple shares drop on iPhone suppliers' warnings  ...     Reuters\n",
       "\n",
       "[10 rows x 4 columns]"
      ]
     },
     "metadata": {},
     "output_type": "display_data"
    },
    {
     "name": "stdout",
     "output_type": "stream",
     "text": [
      "\n",
      "This table contains recommended articles for the user:\n",
      "\n"
     ]
    },
    {
     "data": {
      "text/html": [
       "<div>\n",
       "<style scoped>\n",
       "    .dataframe tbody tr th:only-of-type {\n",
       "        vertical-align: middle;\n",
       "    }\n",
       "\n",
       "    .dataframe tbody tr th {\n",
       "        vertical-align: top;\n",
       "    }\n",
       "\n",
       "    .dataframe thead th {\n",
       "        text-align: right;\n",
       "    }\n",
       "</style>\n",
       "<table border=\"1\" class=\"dataframe\">\n",
       "  <thead>\n",
       "    <tr style=\"text-align: right;\">\n",
       "      <th></th>\n",
       "      <th>id</th>\n",
       "      <th>score</th>\n",
       "      <th>title</th>\n",
       "      <th>section</th>\n",
       "      <th>publication</th>\n",
       "    </tr>\n",
       "  </thead>\n",
       "  <tbody>\n",
       "    <tr>\n",
       "      <th>0</th>\n",
       "      <td>131603</td>\n",
       "      <td>0.970930</td>\n",
       "      <td>US STOCKS-Wall Street muted as rate cut bets t...</td>\n",
       "      <td>Market News</td>\n",
       "      <td>Reuters</td>\n",
       "    </tr>\n",
       "    <tr>\n",
       "      <th>1</th>\n",
       "      <td>93287</td>\n",
       "      <td>0.970408</td>\n",
       "      <td>MONEY MARKETS-U.S. rate-cut bets in June slip ...</td>\n",
       "      <td>Bonds News</td>\n",
       "      <td>Reuters</td>\n",
       "    </tr>\n",
       "    <tr>\n",
       "      <th>2</th>\n",
       "      <td>159587</td>\n",
       "      <td>0.970357</td>\n",
       "      <td>Wall Street ekes out gain, Apple cuts revenue ...</td>\n",
       "      <td>Business News</td>\n",
       "      <td>Reuters</td>\n",
       "    </tr>\n",
       "    <tr>\n",
       "      <th>3</th>\n",
       "      <td>45533</td>\n",
       "      <td>0.969199</td>\n",
       "      <td>Wall Street wavers as tech gives ground and in...</td>\n",
       "      <td>Business News</td>\n",
       "      <td>Reuters</td>\n",
       "    </tr>\n",
       "    <tr>\n",
       "      <th>4</th>\n",
       "      <td>147320</td>\n",
       "      <td>0.968577</td>\n",
       "      <td>Dented Fed rate cut hopes drag on stocks; doll...</td>\n",
       "      <td>Davos</td>\n",
       "      <td>Reuters</td>\n",
       "    </tr>\n",
       "    <tr>\n",
       "      <th>5</th>\n",
       "      <td>152313</td>\n",
       "      <td>0.968503</td>\n",
       "      <td>MIDEAST - Factors to watch - July 9</td>\n",
       "      <td>Earnings Season</td>\n",
       "      <td>Reuters</td>\n",
       "    </tr>\n",
       "    <tr>\n",
       "      <th>6</th>\n",
       "      <td>34583</td>\n",
       "      <td>0.968178</td>\n",
       "      <td>Global stocks rally after speech by Fed's Powe...</td>\n",
       "      <td>Business News</td>\n",
       "      <td>Reuters</td>\n",
       "    </tr>\n",
       "    <tr>\n",
       "      <th>7</th>\n",
       "      <td>89976</td>\n",
       "      <td>0.968087</td>\n",
       "      <td>Stocks, yields rise after deal announced to en...</td>\n",
       "      <td>Business News</td>\n",
       "      <td>Reuters</td>\n",
       "    </tr>\n",
       "    <tr>\n",
       "      <th>8</th>\n",
       "      <td>96107</td>\n",
       "      <td>0.968018</td>\n",
       "      <td>Wall Street surges on higher oil after U.S. qu...</td>\n",
       "      <td>Business News</td>\n",
       "      <td>Reuters</td>\n",
       "    </tr>\n",
       "    <tr>\n",
       "      <th>9</th>\n",
       "      <td>51197</td>\n",
       "      <td>0.967809</td>\n",
       "      <td>UPDATE 1-Weak economic data, rate cut expectat...</td>\n",
       "      <td>Market News</td>\n",
       "      <td>Reuters</td>\n",
       "    </tr>\n",
       "  </tbody>\n",
       "</table>\n",
       "</div>"
      ],
      "text/plain": [
       "       id     score  ...          section publication\n",
       "0  131603  0.970930  ...      Market News     Reuters\n",
       "1   93287  0.970408  ...       Bonds News     Reuters\n",
       "2  159587  0.970357  ...    Business News     Reuters\n",
       "3   45533  0.969199  ...    Business News     Reuters\n",
       "4  147320  0.968577  ...            Davos     Reuters\n",
       "5  152313  0.968503  ...  Earnings Season     Reuters\n",
       "6   34583  0.968178  ...    Business News     Reuters\n",
       "7   89976  0.968087  ...    Business News     Reuters\n",
       "8   96107  0.968018  ...    Business News     Reuters\n",
       "9   51197  0.967809  ...      Market News     Reuters\n",
       "\n",
       "[10 rows x 5 columns]"
      ]
     },
     "metadata": {},
     "output_type": "display_data"
    },
    {
     "name": "stdout",
     "output_type": "stream",
     "text": [
      "\n",
      "A word-cloud representing the results:\n",
      "\n"
     ]
    },
    {
     "data": {
      "image/png": "[encoded data removed]",
      "text/plain": [
       "<Figure size 432x288 with 1 Axes>"
      ]
     },
     "metadata": {
      "needs_background": "light"
     },
     "output_type": "display_data"
    }
   ],
   "source": [
    "# first create a user who likes to read about Wall Street business news\n",
    "business_user = uploaded_data.loc[((uploaded_data['section'] == 'Business News')|\n",
    "                                   (uploaded_data['section'] == 'business')) &\n",
    "                                   (uploaded_data['article'].str.contains('Wall Street'))][:10]\n",
    "\n",
    "print('\\nHere is the example of previously read articles by this user:\\n')\n",
    "display(business_user[['title', 'article', 'section', 'publication']])\n",
    "\n",
    "# then create a vector for this user\n",
    "a = business_user['article_vector']\n",
    "business_user_vector = [*map(mean, zip(*a))]\n",
    "\n",
    "# query the pinecone\n",
    "query_results = index.query(queries=[business_user_vector], top_k=10)\n",
    "\n",
    "# print results\n",
    "res = query_results.results[0]\n",
    "ids = [match.id for match in res.matches]\n",
    "scores = [match.score for match in res.matches]\n",
    "df = pd.DataFrame({'id': ids, \n",
    "                   'score': scores,\n",
    "                   'title': [titles_mapped[int(_id)] for _id in ids],\n",
    "                   'section': [sections_mapped[int(_id)] for _id in ids],\n",
    "                   'publication': [publications_mapped[int(_id)] for _id in ids]\n",
    "                    })\n",
    "\n",
    "print(\"\\nThis table contains recommended articles for the user:\\n\")\n",
    "display(df)\n",
    "print(\"\\nA word-cloud representing the results:\\n\")\n",
    "get_wordcloud_for_user(df)"
   ]
  },
  {
   "cell_type": "markdown",
   "metadata": {
    "id": "MtHUsuR8DbrX"
   },
   "source": [
    "### Query Results"
   ]
  },
  {
   "cell_type": "markdown",
   "metadata": {
    "id": "eT3k7mn5DbrX"
   },
   "source": [
    "We can see that each user's recommendations have a high similarity to what the user actually reads. A user who likes Tennis news has plenty of Tennis news recommendations. A user who likes to read about Xbox has that kind of news. And a business user has plenty of Wall Street news that he/she enjoys. \n",
    "\n",
    "From the word-cloud, you can see the most frequent words that appear in the recommended articles' titles. \n",
    "\n",
    "Since we used only the title and the content of the article to define the embeddings, and we did not take publications and sections into account, a user may get recommendations from a publication/section that he does not regularly read. You may try adding this information when creating embeddings as well and check your query results then!\n",
    "\n",
    "Also, you may notice that some articles appear in the recommendations, although the user has already read them. These articles could be removed as part of postprocessing the query results, in case you prefer not to see them in the recommendations."
   ]
  },
  {
   "cell_type": "markdown",
   "metadata": {
    "id": "lFT2bStCRB-Y"
   },
   "source": [
    "## Delete the index"
   ]
  },
  {
   "cell_type": "markdown",
   "metadata": {
    "id": "ppirLic6DbrX"
   },
   "source": [
    "Delete the index once you are sure that you do not want to use it anymore. Once it is deleted, you cannot use it again.\n",
    "\n"
   ]
  },
  {
   "cell_type": "code",
   "execution_count": 21,
   "metadata": {
    "id": "xcd6vDvkRB-Y"
   },
   "outputs": [],
   "source": [
    "pinecone.delete_index(index_name)"
   ]
  }
 ],
 "metadata": {
  "accelerator": "GPU",
  "colab": {
   "collapsed_sections": [],
   "machine_shape": "hm",
   "name": "articles_simple_graph.ipynb",
   "provenance": []
  },
  "environment": {
   "name": "tf2-gpu.2-4.m61",
   "type": "gcloud",
   "uri": "gcr.io/deeplearning-platform-release/tf2-gpu.2-4:m61"
  },
  "kernelspec": {
   "display_name": "pinecone-novi",
   "language": "python",
   "name": "pinecone-novi"
  },
  "language_info": {
   "codemirror_mode": {
    "name": "ipython",
    "version": 3
   },
   "file_extension": ".py",
   "mimetype": "text/x-python",
   "name": "python",
   "nbconvert_exporter": "python",
   "pygments_lexer": "ipython3",
   "version": "3.7.10"
  },
  "widgets": {
   "application/vnd.jupyter.widget-state+json": {
    "06b772dd8d7f4b9187ba4daf010f194a": {
     "model_module": "@jupyter-widgets/controls",
     "model_module_version": "1.5.0",
     "model_name": "HBoxModel",
     "state": {
      "_dom_classes": [],
      "_model_module": "@jupyter-widgets/controls",
      "_model_module_version": "1.5.0",
      "_model_name": "HBoxModel",
      "_view_count": null,
      "_view_module": "@jupyter-widgets/controls",
      "_view_module_version": "1.5.0",
      "_view_name": "HBoxView",
      "box_style": "",
      "children": [
       "IPY_MODEL_4eb65a154cfe44569f6ce5c19381eaef",
       "IPY_MODEL_2afb6c6849e8490abc69c6d919d07493",
       "IPY_MODEL_c757619b7bb6480985c31b8e564a563e"
      ],
      "layout": "IPY_MODEL_f17a249945354d14a59ea85d594d5cfd"
     }
    },
    "20621de615164b62810f5d2e4132368c": {
     "model_module": "@jupyter-widgets/base",
     "model_module_version": "1.2.0",
     "model_name": "LayoutModel",
     "state": {
      "_model_module": "@jupyter-widgets/base",
      "_model_module_version": "1.2.0",
      "_model_name": "LayoutModel",
      "_view_count": null,
      "_view_module": "@jupyter-widgets/base",
      "_view_module_version": "1.2.0",
      "_view_name": "LayoutView",
      "align_content": null,
      "align_items": null,
      "align_self": null,
      "border": null,
      "bottom": null,
      "display": null,
      "flex": null,
      "flex_flow": null,
      "grid_area": null,
      "grid_auto_columns": null,
      "grid_auto_flow": null,
      "grid_auto_rows": null,
      "grid_column": null,
      "grid_gap": null,
      "grid_row": null,
      "grid_template_areas": null,
      "grid_template_columns": null,
      "grid_template_rows": null,
      "height": null,
      "justify_content": null,
      "justify_items": null,
      "left": null,
      "margin": null,
      "max_height": null,
      "max_width": null,
      "min_height": null,
      "min_width": null,
      "object_fit": null,
      "object_position": null,
      "order": null,
      "overflow": null,
      "overflow_x": null,
      "overflow_y": null,
      "padding": null,
      "right": null,
      "top": null,
      "visibility": null,
      "width": null
     }
    },
    "2afb6c6849e8490abc69c6d919d07493": {
     "model_module": "@jupyter-widgets/controls",
     "model_module_version": "1.5.0",
     "model_name": "FloatProgressModel",
     "state": {
      "_dom_classes": [],
      "_model_module": "@jupyter-widgets/controls",
      "_model_module_version": "1.5.0",
      "_model_name": "FloatProgressModel",
      "_view_count": null,
      "_view_module": "@jupyter-widgets/controls",
      "_view_module_version": "1.5.0",
      "_view_name": "ProgressView",
      "bar_style": "success",
      "description": "",
      "description_tooltip": null,
      "layout": "IPY_MODEL_cc4dc36e4a214ccc9afc8456e9173c34",
      "max": 200000,
      "min": 0,
      "orientation": "horizontal",
      "style": "IPY_MODEL_7ae5db51f1b0414db4a0d9dcc133ba73",
      "value": 200000
     }
    },
    "2bc63d3789b64c659db75d2927346e8e": {
     "model_module": "@jupyter-widgets/controls",
     "model_module_version": "1.5.0",
     "model_name": "HTMLModel",
     "state": {
      "_dom_classes": [],
      "_model_module": "@jupyter-widgets/controls",
      "_model_module_version": "1.5.0",
      "_model_name": "HTMLModel",
      "_view_count": null,
      "_view_module": "@jupyter-widgets/controls",
      "_view_module_version": "1.5.0",
      "_view_name": "HTMLView",
      "description": "",
      "description_tooltip": null,
      "layout": "IPY_MODEL_ea4cf8b2e46b4cd69de1a0a4c489a10e",
      "placeholder": "​",
      "style": "IPY_MODEL_511d2cb918654824a18513b93bc9c566",
      "value": " 6250/6250 [00:24&lt;00:00, 392.28it/s]"
     }
    },
    "4b760e4795614d1a8b1a9c78e91e0fc8": {
     "model_module": "@jupyter-widgets/base",
     "model_module_version": "1.2.0",
     "model_name": "LayoutModel",
     "state": {
      "_model_module": "@jupyter-widgets/base",
      "_model_module_version": "1.2.0",
      "_model_name": "LayoutModel",
      "_view_count": null,
      "_view_module": "@jupyter-widgets/base",
      "_view_module_version": "1.2.0",
      "_view_name": "LayoutView",
      "align_content": null,
      "align_items": null,
      "align_self": null,
      "border": null,
      "bottom": null,
      "display": null,
      "flex": null,
      "flex_flow": null,
      "grid_area": null,
      "grid_auto_columns": null,
      "grid_auto_flow": null,
      "grid_auto_rows": null,
      "grid_column": null,
      "grid_gap": null,
      "grid_row": null,
      "grid_template_areas": null,
      "grid_template_columns": null,
      "grid_template_rows": null,
      "height": null,
      "justify_content": null,
      "justify_items": null,
      "left": null,
      "margin": null,
      "max_height": null,
      "max_width": null,
      "min_height": null,
      "min_width": null,
      "object_fit": null,
      "object_position": null,
      "order": null,
      "overflow": null,
      "overflow_x": null,
      "overflow_y": null,
      "padding": null,
      "right": null,
      "top": null,
      "visibility": null,
      "width": null
     }
    },
    "4eb65a154cfe44569f6ce5c19381eaef": {
     "model_module": "@jupyter-widgets/controls",
     "model_module_version": "1.5.0",
     "model_name": "HTMLModel",
     "state": {
      "_dom_classes": [],
      "_model_module": "@jupyter-widgets/controls",
      "_model_module_version": "1.5.0",
      "_model_name": "HTMLModel",
      "_view_count": null,
      "_view_module": "@jupyter-widgets/controls",
      "_view_module_version": "1.5.0",
      "_view_name": "HTMLView",
      "description": "",
      "description_tooltip": null,
      "layout": "IPY_MODEL_20621de615164b62810f5d2e4132368c",
      "placeholder": "​",
      "style": "IPY_MODEL_8f35677afa9b4b72aff187682db6041c",
      "value": "Pandas Apply: 100%"
     }
    },
    "511d2cb918654824a18513b93bc9c566": {
     "model_module": "@jupyter-widgets/controls",
     "model_module_version": "1.5.0",
     "model_name": "DescriptionStyleModel",
     "state": {
      "_model_module": "@jupyter-widgets/controls",
      "_model_module_version": "1.5.0",
      "_model_name": "DescriptionStyleModel",
      "_view_count": null,
      "_view_module": "@jupyter-widgets/base",
      "_view_module_version": "1.2.0",
      "_view_name": "StyleView",
      "description_width": ""
     }
    },
    "7ae5db51f1b0414db4a0d9dcc133ba73": {
     "model_module": "@jupyter-widgets/controls",
     "model_module_version": "1.5.0",
     "model_name": "ProgressStyleModel",
     "state": {
      "_model_module": "@jupyter-widgets/controls",
      "_model_module_version": "1.5.0",
      "_model_name": "ProgressStyleModel",
      "_view_count": null,
      "_view_module": "@jupyter-widgets/base",
      "_view_module_version": "1.2.0",
      "_view_name": "StyleView",
      "bar_color": null,
      "description_width": ""
     }
    },
    "7e2f50823ea94c50a4a4e625d48a876b": {
     "model_module": "@jupyter-widgets/base",
     "model_module_version": "1.2.0",
     "model_name": "LayoutModel",
     "state": {
      "_model_module": "@jupyter-widgets/base",
      "_model_module_version": "1.2.0",
      "_model_name": "LayoutModel",
      "_view_count": null,
      "_view_module": "@jupyter-widgets/base",
      "_view_module_version": "1.2.0",
      "_view_name": "LayoutView",
      "align_content": null,
      "align_items": null,
      "align_self": null,
      "border": null,
      "bottom": null,
      "display": null,
      "flex": null,
      "flex_flow": null,
      "grid_area": null,
      "grid_auto_columns": null,
      "grid_auto_flow": null,
      "grid_auto_rows": null,
      "grid_column": null,
      "grid_gap": null,
      "grid_row": null,
      "grid_template_areas": null,
      "grid_template_columns": null,
      "grid_template_rows": null,
      "height": null,
      "justify_content": null,
      "justify_items": null,
      "left": null,
      "margin": null,
      "max_height": null,
      "max_width": null,
      "min_height": null,
      "min_width": null,
      "object_fit": null,
      "object_position": null,
      "order": null,
      "overflow": null,
      "overflow_x": null,
      "overflow_y": null,
      "padding": null,
      "right": null,
      "top": null,
      "visibility": null,
      "width": null
     }
    },
    "87d2fb57dff5454e841e6549e7f6694a": {
     "model_module": "@jupyter-widgets/controls",
     "model_module_version": "1.5.0",
     "model_name": "DescriptionStyleModel",
     "state": {
      "_model_module": "@jupyter-widgets/controls",
      "_model_module_version": "1.5.0",
      "_model_name": "DescriptionStyleModel",
      "_view_count": null,
      "_view_module": "@jupyter-widgets/base",
      "_view_module_version": "1.2.0",
      "_view_name": "StyleView",
      "description_width": ""
     }
    },
    "8f35677afa9b4b72aff187682db6041c": {
     "model_module": "@jupyter-widgets/controls",
     "model_module_version": "1.5.0",
     "model_name": "DescriptionStyleModel",
     "state": {
      "_model_module": "@jupyter-widgets/controls",
      "_model_module_version": "1.5.0",
      "_model_name": "DescriptionStyleModel",
      "_view_count": null,
      "_view_module": "@jupyter-widgets/base",
      "_view_module_version": "1.2.0",
      "_view_name": "StyleView",
      "description_width": ""
     }
    },
    "9174b4d3e4c045a685e61227f95031ae": {
     "model_module": "@jupyter-widgets/base",
     "model_module_version": "1.2.0",
     "model_name": "LayoutModel",
     "state": {
      "_model_module": "@jupyter-widgets/base",
      "_model_module_version": "1.2.0",
      "_model_name": "LayoutModel",
      "_view_count": null,
      "_view_module": "@jupyter-widgets/base",
      "_view_module_version": "1.2.0",
      "_view_name": "LayoutView",
      "align_content": null,
      "align_items": null,
      "align_self": null,
      "border": null,
      "bottom": null,
      "display": null,
      "flex": null,
      "flex_flow": null,
      "grid_area": null,
      "grid_auto_columns": null,
      "grid_auto_flow": null,
      "grid_auto_rows": null,
      "grid_column": null,
      "grid_gap": null,
      "grid_row": null,
      "grid_template_areas": null,
      "grid_template_columns": null,
      "grid_template_rows": null,
      "height": null,
      "justify_content": null,
      "justify_items": null,
      "left": null,
      "margin": null,
      "max_height": null,
      "max_width": null,
      "min_height": null,
      "min_width": null,
      "object_fit": null,
      "object_position": null,
      "order": null,
      "overflow": null,
      "overflow_x": null,
      "overflow_y": null,
      "padding": null,
      "right": null,
      "top": null,
      "visibility": null,
      "width": null
     }
    },
    "9e0c79e390774cd6814728392d1c4e06": {
     "model_module": "@jupyter-widgets/controls",
     "model_module_version": "1.5.0",
     "model_name": "ProgressStyleModel",
     "state": {
      "_model_module": "@jupyter-widgets/controls",
      "_model_module_version": "1.5.0",
      "_model_name": "ProgressStyleModel",
      "_view_count": null,
      "_view_module": "@jupyter-widgets/base",
      "_view_module_version": "1.2.0",
      "_view_name": "StyleView",
      "bar_color": null,
      "description_width": ""
     }
    },
    "af8259be673a436594a53f513d5bf5cd": {
     "model_module": "@jupyter-widgets/controls",
     "model_module_version": "1.5.0",
     "model_name": "DescriptionStyleModel",
     "state": {
      "_model_module": "@jupyter-widgets/controls",
      "_model_module_version": "1.5.0",
      "_model_name": "DescriptionStyleModel",
      "_view_count": null,
      "_view_module": "@jupyter-widgets/base",
      "_view_module_version": "1.2.0",
      "_view_name": "StyleView",
      "description_width": ""
     }
    },
    "b3111990b3d248c184e877a84da26cbf": {
     "model_module": "@jupyter-widgets/controls",
     "model_module_version": "1.5.0",
     "model_name": "FloatProgressModel",
     "state": {
      "_dom_classes": [],
      "_model_module": "@jupyter-widgets/controls",
      "_model_module_version": "1.5.0",
      "_model_name": "FloatProgressModel",
      "_view_count": null,
      "_view_module": "@jupyter-widgets/controls",
      "_view_module_version": "1.5.0",
      "_view_name": "ProgressView",
      "bar_style": "success",
      "description": "",
      "description_tooltip": null,
      "layout": "IPY_MODEL_c0ffc24f570c4e07b128589551431252",
      "max": 6250,
      "min": 0,
      "orientation": "horizontal",
      "style": "IPY_MODEL_9e0c79e390774cd6814728392d1c4e06",
      "value": 6250
     }
    },
    "c0ffc24f570c4e07b128589551431252": {
     "model_module": "@jupyter-widgets/base",
     "model_module_version": "1.2.0",
     "model_name": "LayoutModel",
     "state": {
      "_model_module": "@jupyter-widgets/base",
      "_model_module_version": "1.2.0",
      "_model_name": "LayoutModel",
      "_view_count": null,
      "_view_module": "@jupyter-widgets/base",
      "_view_module_version": "1.2.0",
      "_view_name": "LayoutView",
      "align_content": null,
      "align_items": null,
      "align_self": null,
      "border": null,
      "bottom": null,
      "display": null,
      "flex": null,
      "flex_flow": null,
      "grid_area": null,
      "grid_auto_columns": null,
      "grid_auto_flow": null,
      "grid_auto_rows": null,
      "grid_column": null,
      "grid_gap": null,
      "grid_row": null,
      "grid_template_areas": null,
      "grid_template_columns": null,
      "grid_template_rows": null,
      "height": null,
      "justify_content": null,
      "justify_items": null,
      "left": null,
      "margin": null,
      "max_height": null,
      "max_width": null,
      "min_height": null,
      "min_width": null,
      "object_fit": null,
      "object_position": null,
      "order": null,
      "overflow": null,
      "overflow_x": null,
      "overflow_y": null,
      "padding": null,
      "right": null,
      "top": null,
      "visibility": null,
      "width": null
     }
    },
    "c757619b7bb6480985c31b8e564a563e": {
     "model_module": "@jupyter-widgets/controls",
     "model_module_version": "1.5.0",
     "model_name": "HTMLModel",
     "state": {
      "_dom_classes": [],
      "_model_module": "@jupyter-widgets/controls",
      "_model_module_version": "1.5.0",
      "_model_name": "HTMLModel",
      "_view_count": null,
      "_view_module": "@jupyter-widgets/controls",
      "_view_module_version": "1.5.0",
      "_view_name": "HTMLView",
      "description": "",
      "description_tooltip": null,
      "layout": "IPY_MODEL_4b760e4795614d1a8b1a9c78e91e0fc8",
      "placeholder": "​",
      "style": "IPY_MODEL_af8259be673a436594a53f513d5bf5cd",
      "value": " 200000/200000 [00:25&lt;00:00, 20303.90it/s]"
     }
    },
    "cc4dc36e4a214ccc9afc8456e9173c34": {
     "model_module": "@jupyter-widgets/base",
     "model_module_version": "1.2.0",
     "model_name": "LayoutModel",
     "state": {
      "_model_module": "@jupyter-widgets/base",
      "_model_module_version": "1.2.0",
      "_model_name": "LayoutModel",
      "_view_count": null,
      "_view_module": "@jupyter-widgets/base",
      "_view_module_version": "1.2.0",
      "_view_name": "LayoutView",
      "align_content": null,
      "align_items": null,
      "align_self": null,
      "border": null,
      "bottom": null,
      "display": null,
      "flex": null,
      "flex_flow": null,
      "grid_area": null,
      "grid_auto_columns": null,
      "grid_auto_flow": null,
      "grid_auto_rows": null,
      "grid_column": null,
      "grid_gap": null,
      "grid_row": null,
      "grid_template_areas": null,
      "grid_template_columns": null,
      "grid_template_rows": null,
      "height": null,
      "justify_content": null,
      "justify_items": null,
      "left": null,
      "margin": null,
      "max_height": null,
      "max_width": null,
      "min_height": null,
      "min_width": null,
      "object_fit": null,
      "object_position": null,
      "order": null,
      "overflow": null,
      "overflow_x": null,
      "overflow_y": null,
      "padding": null,
      "right": null,
      "top": null,
      "visibility": null,
      "width": null
     }
    },
    "d839bd98c05d4ba782bb93a95ff22c77": {
     "model_module": "@jupyter-widgets/controls",
     "model_module_version": "1.5.0",
     "model_name": "HTMLModel",
     "state": {
      "_dom_classes": [],
      "_model_module": "@jupyter-widgets/controls",
      "_model_module_version": "1.5.0",
      "_model_name": "HTMLModel",
      "_view_count": null,
      "_view_module": "@jupyter-widgets/controls",
      "_view_module_version": "1.5.0",
      "_view_name": "HTMLView",
      "description": "",
      "description_tooltip": null,
      "layout": "IPY_MODEL_9174b4d3e4c045a685e61227f95031ae",
      "placeholder": "​",
      "style": "IPY_MODEL_87d2fb57dff5454e841e6549e7f6694a",
      "value": "Batches: 100%"
     }
    },
    "e668bc0431a04f52bb7fe4101b0d815a": {
     "model_module": "@jupyter-widgets/controls",
     "model_module_version": "1.5.0",
     "model_name": "HBoxModel",
     "state": {
      "_dom_classes": [],
      "_model_module": "@jupyter-widgets/controls",
      "_model_module_version": "1.5.0",
      "_model_name": "HBoxModel",
      "_view_count": null,
      "_view_module": "@jupyter-widgets/controls",
      "_view_module_version": "1.5.0",
      "_view_name": "HBoxView",
      "box_style": "",
      "children": [
       "IPY_MODEL_d839bd98c05d4ba782bb93a95ff22c77",
       "IPY_MODEL_b3111990b3d248c184e877a84da26cbf",
       "IPY_MODEL_2bc63d3789b64c659db75d2927346e8e"
      ],
      "layout": "IPY_MODEL_7e2f50823ea94c50a4a4e625d48a876b"
     }
    },
    "ea4cf8b2e46b4cd69de1a0a4c489a10e": {
     "model_module": "@jupyter-widgets/base",
     "model_module_version": "1.2.0",
     "model_name": "LayoutModel",
     "state": {
      "_model_module": "@jupyter-widgets/base",
      "_model_module_version": "1.2.0",
      "_model_name": "LayoutModel",
      "_view_count": null,
      "_view_module": "@jupyter-widgets/base",
      "_view_module_version": "1.2.0",
      "_view_name": "LayoutView",
      "align_content": null,
      "align_items": null,
      "align_self": null,
      "border": null,
      "bottom": null,
      "display": null,
      "flex": null,
      "flex_flow": null,
      "grid_area": null,
      "grid_auto_columns": null,
      "grid_auto_flow": null,
      "grid_auto_rows": null,
      "grid_column": null,
      "grid_gap": null,
      "grid_row": null,
      "grid_template_areas": null,
      "grid_template_columns": null,
      "grid_template_rows": null,
      "height": null,
      "justify_content": null,
      "justify_items": null,
      "left": null,
      "margin": null,
      "max_height": null,
      "max_width": null,
      "min_height": null,
      "min_width": null,
      "object_fit": null,
      "object_position": null,
      "order": null,
      "overflow": null,
      "overflow_x": null,
      "overflow_y": null,
      "padding": null,
      "right": null,
      "top": null,
      "visibility": null,
      "width": null
     }
    },
    "f17a249945354d14a59ea85d594d5cfd": {
     "model_module": "@jupyter-widgets/base",
     "model_module_version": "1.2.0",
     "model_name": "LayoutModel",
     "state": {
      "_model_module": "@jupyter-widgets/base",
      "_model_module_version": "1.2.0",
      "_model_name": "LayoutModel",
      "_view_count": null,
      "_view_module": "@jupyter-widgets/base",
      "_view_module_version": "1.2.0",
      "_view_name": "LayoutView",
      "align_content": null,
      "align_items": null,
      "align_self": null,
      "border": null,
      "bottom": null,
      "display": null,
      "flex": null,
      "flex_flow": null,
      "grid_area": null,
      "grid_auto_columns": null,
      "grid_auto_flow": null,
      "grid_auto_rows": null,
      "grid_column": null,
      "grid_gap": null,
      "grid_row": null,
      "grid_template_areas": null,
      "grid_template_columns": null,
      "grid_template_rows": null,
      "height": null,
      "justify_content": null,
      "justify_items": null,
      "left": null,
      "margin": null,
      "max_height": null,
      "max_width": null,
      "min_height": null,
      "min_width": null,
      "object_fit": null,
      "object_position": null,
      "order": null,
      "overflow": null,
      "overflow_x": null,
      "overflow_y": null,
      "padding": null,
      "right": null,
      "top": null,
      "visibility": null,
      "width": null
     }
    }
   }
  }
 },
 "nbformat": 4,
 "nbformat_minor": 1
}

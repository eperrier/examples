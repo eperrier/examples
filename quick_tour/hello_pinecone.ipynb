{
 "cells": [
  {
   "cell_type": "markdown",
   "id": "conceptual-belfast",
   "metadata": {
    "id": "conceptual-belfast",
    "papermill": {
     "duration": 0.028714,
     "end_time": "2021-04-16T15:08:30.639231",
     "exception": false,
     "start_time": "2021-04-16T15:08:30.610517",
     "status": "completed"
    },
    "tags": []
   },
   "source": [
    "# Hello, Pinecone!\n",
    "\n",
    "This notebook will walk through the steps to get a simple Pinecone index up and running. \n"
   ]
  },
  {
   "cell_type": "markdown",
   "id": "first-affairs",
   "metadata": {
    "id": "first-affairs",
    "papermill": {
     "duration": 0.025469,
     "end_time": "2021-04-16T15:08:30.690710",
     "exception": false,
     "start_time": "2021-04-16T15:08:30.665241",
     "status": "completed"
    },
    "tags": []
   },
   "source": [
    "## Prerequisites"
   ]
  },
  {
   "cell_type": "markdown",
   "id": "banned-huntington",
   "metadata": {
    "id": "banned-huntington",
    "papermill": {
     "duration": 0.023078,
     "end_time": "2021-04-16T15:08:30.737798",
     "exception": false,
     "start_time": "2021-04-16T15:08:30.714720",
     "status": "completed"
    },
    "tags": []
   },
   "source": [
    "Install dependencies."
   ]
  },
  {
   "cell_type": "code",
   "execution_count": 1,
   "id": "parallel-detective",
   "metadata": {
    "colab": {
     "base_uri": "https://localhost:8080/"
    },
    "execution": {
     "iopub.execute_input": "2021-04-16T15:08:30.790085Z",
     "iopub.status.busy": "2021-04-16T15:08:30.789322Z",
     "iopub.status.idle": "2021-04-16T15:08:48.879840Z",
     "shell.execute_reply": "2021-04-16T15:08:48.880935Z"
    },
    "executionInfo": {
     "elapsed": 35577,
     "status": "ok",
     "timestamp": 1617762694371,
     "user": {
      "displayName": "Rajat Tripathi",
      "photoUrl": "",
      "userId": "04027590592238680740"
     },
     "user_tz": 240
    },
    "id": "parallel-detective",
    "outputId": "fbaa0e4e-4ca9-49c7-e50f-725c6efe5f8d",
    "papermill": {
     "duration": 18.119125,
     "end_time": "2021-04-16T15:08:48.881643",
     "exception": false,
     "start_time": "2021-04-16T15:08:30.762518",
     "status": "completed"
    },
    "tags": []
   },
   "outputs": [],
   "source": [
    "!pip install -qU pip pinecone-client"
   ]
  },
  {
   "cell_type": "markdown",
   "id": "outer-cartridge",
   "metadata": {
    "id": "outer-cartridge",
    "papermill": {
     "duration": 0.022118,
     "end_time": "2021-04-16T15:08:48.932208",
     "exception": false,
     "start_time": "2021-04-16T15:08:48.910090",
     "status": "completed"
    },
    "tags": []
   },
   "source": [
    "Set up Pinecone. Get your Pinecone API key [here](https://www.pinecone.io/start)."
   ]
  },
  {
   "cell_type": "code",
   "execution_count": 2,
   "id": "labeled-specialist",
   "metadata": {
    "execution": {
     "iopub.execute_input": "2021-04-16T15:08:48.980520Z",
     "iopub.status.busy": "2021-04-16T15:08:48.979710Z",
     "iopub.status.idle": "2021-04-16T15:08:49.296796Z",
     "shell.execute_reply": "2021-04-16T15:08:49.296152Z"
    },
    "executionInfo": {
     "elapsed": 36324,
     "status": "ok",
     "timestamp": 1617762695125,
     "user": {
      "displayName": "Rajat Tripathi",
      "photoUrl": "",
      "userId": "04027590592238680740"
     },
     "user_tz": 240
    },
    "id": "labeled-specialist",
    "papermill": {
     "duration": 0.344059,
     "end_time": "2021-04-16T15:08:49.297021",
     "exception": false,
     "start_time": "2021-04-16T15:08:48.952962",
     "status": "completed"
    },
    "tags": []
   },
   "outputs": [],
   "source": [
    "import pinecone\n",
    "import os\n",
    "\n",
    "api_key = os.getenv(\"PINECONE_API_KEY\") or \"USE_YOUR_API_KEY\"\n",
    "pinecone.init(api_key=api_key, environment='us-west1-gcp')"
   ]
  },
  {
   "cell_type": "markdown",
   "id": "round-adoption",
   "metadata": {
    "id": "round-adoption",
    "papermill": {
     "duration": 0.020686,
     "end_time": "2021-04-16T15:08:49.340392",
     "exception": false,
     "start_time": "2021-04-16T15:08:49.319706",
     "status": "completed"
    },
    "tags": []
   },
   "source": [
    "Check Pinecone version compatibility."
   ]
  },
  {
   "cell_type": "code",
   "execution_count": 3,
   "id": "143ac9b4",
   "metadata": {},
   "outputs": [],
   "source": [
    "import pinecone.info\n",
    "\n",
    "version_info = pinecone.info.version()\n",
    "server_version = \".\".join(version_info.server.split(\".\")[:2])\n",
    "client_version = \".\".join(version_info.client.split(\".\")[:2])\n",
    "notebook_version = \"2.0\"\n",
    "\n",
    "assert (\n",
    "    notebook_version == server_version\n",
    "), \"This notebook is outdated. Consider using the latest version of the notebook.\"\n",
    "assert client_version == server_version, \"Please upgrade pinecone-client.\""
   ]
  },
  {
   "cell_type": "markdown",
   "id": "forbidden-indication",
   "metadata": {
    "id": "forbidden-indication",
    "papermill": {
     "duration": 0.020515,
     "end_time": "2021-04-16T15:08:49.925687",
     "exception": false,
     "start_time": "2021-04-16T15:08:49.905172",
     "status": "completed"
    },
    "tags": []
   },
   "source": [
    "## Pinecone quickstart\n",
    "\n",
    "With Pinecone you can create a vector index where you can store and search through your vectors. "
   ]
  },
  {
   "cell_type": "code",
   "execution_count": 4,
   "id": "synthetic-essex",
   "metadata": {
    "execution": {
     "iopub.execute_input": "2021-04-16T15:08:49.974096Z",
     "iopub.status.busy": "2021-04-16T15:08:49.972856Z",
     "iopub.status.idle": "2021-04-16T15:08:50.392796Z",
     "shell.execute_reply": "2021-04-16T15:08:50.391552Z"
    },
    "executionInfo": {
     "elapsed": 36808,
     "status": "ok",
     "timestamp": 1617762695615,
     "user": {
      "displayName": "Rajat Tripathi",
      "photoUrl": "",
      "userId": "04027590592238680740"
     },
     "user_tz": 240
    },
    "id": "synthetic-essex",
    "papermill": {
     "duration": 0.446682,
     "end_time": "2021-04-16T15:08:50.393195",
     "exception": false,
     "start_time": "2021-04-16T15:08:49.946513",
     "status": "completed"
    },
    "tags": []
   },
   "outputs": [],
   "source": [
    "# Giving our index a name\n",
    "index_name = \"hello-pinecone\"\n",
    "# Delete the index, if an index of the same name already exists\n",
    "if index_name in pinecone.list_indexes():\n",
    "    pinecone.delete_index(index_name)"
   ]
  },
  {
   "cell_type": "markdown",
   "id": "94LRI2H8Ch2B",
   "metadata": {
    "id": "94LRI2H8Ch2B",
    "papermill": {
     "duration": 0.021764,
     "end_time": "2021-04-16T15:08:50.446400",
     "exception": false,
     "start_time": "2021-04-16T15:08:50.424636",
     "status": "completed"
    },
    "tags": []
   },
   "source": [
    "Creating a Pinecone Index."
   ]
  },
  {
   "cell_type": "code",
   "execution_count": 5,
   "id": "4YwC8livCrn2",
   "metadata": {
    "colab": {
     "base_uri": "https://localhost:8080/",
     "height": 84,
     "referenced_widgets": [
      "65b3fa73dc7d443f9b437fa33d36adb2",
      "ca0c3890309c44e491fcba4d3f8a9884",
      "78a353ae3e1640e0b9fcc4316a0d64e7",
      "60021f075d914aeeb6c6f6c7f1fa823c",
      "827fef1b1fc34c43afc71d82e5468c67",
      "f8796560d16d4030b4772d9f91d9a31f",
      "b70106a15df54b0c97630f4e51ad0980",
      "6272429cb1734c2195a3d631cc1a0ac4",
      "5e11db64bf614f46b2f003b921085b4c",
      "6dab7dbfcaf341d5b01b14d5b758d836",
      "2a481007b8d54c30b63dcb47faa2db5c"
     ]
    },
    "execution": {
     "iopub.execute_input": "2021-04-16T15:08:50.497478Z",
     "iopub.status.busy": "2021-04-16T15:08:50.496767Z",
     "iopub.status.idle": "2021-04-16T15:09:04.224132Z",
     "shell.execute_reply": "2021-04-16T15:09:04.223529Z"
    },
    "executionInfo": {
     "elapsed": 49483,
     "status": "ok",
     "timestamp": 1617762708290,
     "user": {
      "displayName": "Rajat Tripathi",
      "photoUrl": "",
      "userId": "04027590592238680740"
     },
     "user_tz": 240
    },
    "id": "4YwC8livCrn2",
    "outputId": "f193016d-9d7a-4466-b477-4cbdc7732c30",
    "papermill": {
     "duration": 13.756687,
     "end_time": "2021-04-16T15:09:04.224466",
     "exception": false,
     "start_time": "2021-04-16T15:08:50.467779",
     "status": "completed"
    },
    "tags": []
   },
   "outputs": [],
   "source": [
    "dimensions = 3\n",
    "pinecone.create_index(name=index_name, dimension=dimensions, metric=\"cosine\", shards=1)"
   ]
  },
  {
   "cell_type": "code",
   "execution_count": 6,
   "id": "toy-VhU4LO_O",
   "metadata": {
    "execution": {
     "iopub.execute_input": "2021-04-16T15:09:04.283700Z",
     "iopub.status.busy": "2021-04-16T15:09:04.282289Z",
     "iopub.status.idle": "2021-04-16T15:09:05.096982Z",
     "shell.execute_reply": "2021-04-16T15:09:05.096019Z"
    },
    "executionInfo": {
     "elapsed": 726,
     "status": "ok",
     "timestamp": 1617762844031,
     "user": {
      "displayName": "Rajat Tripathi",
      "photoUrl": "",
      "userId": "04027590592238680740"
     },
     "user_tz": 240
    },
    "id": "toy-VhU4LO_O",
    "papermill": {
     "duration": 0.846255,
     "end_time": "2021-04-16T15:09:05.097384",
     "exception": false,
     "start_time": "2021-04-16T15:09:04.251129",
     "status": "completed"
    },
    "tags": []
   },
   "outputs": [],
   "source": [
    "index = pinecone.Index(index_name=index_name)"
   ]
  },
  {
   "cell_type": "markdown",
   "id": "j1F8SLx6C2HH",
   "metadata": {
    "id": "j1F8SLx6C2HH",
    "papermill": {
     "duration": 0.023037,
     "end_time": "2021-04-16T15:09:05.153116",
     "exception": false,
     "start_time": "2021-04-16T15:09:05.130079",
     "status": "completed"
    },
    "tags": []
   },
   "source": [
    "We have the index ready. Now we will create some simple vectors that will serve as our examples."
   ]
  },
  {
   "cell_type": "code",
   "execution_count": 7,
   "id": "indirect-lafayette",
   "metadata": {
    "colab": {
     "base_uri": "https://localhost:8080/"
    },
    "execution": {
     "iopub.execute_input": "2021-04-16T15:09:05.206498Z",
     "iopub.status.busy": "2021-04-16T15:09:05.205699Z",
     "iopub.status.idle": "2021-04-16T15:09:05.404333Z",
     "shell.execute_reply": "2021-04-16T15:09:05.403743Z"
    },
    "executionInfo": {
     "elapsed": 327,
     "status": "ok",
     "timestamp": 1617762741080,
     "user": {
      "displayName": "Rajat Tripathi",
      "photoUrl": "",
      "userId": "04027590592238680740"
     },
     "user_tz": 240
    },
    "id": "indirect-lafayette",
    "outputId": "b986ec6e-db14-4fd5-edf3-e1971c6c9d88",
    "papermill": {
     "duration": 0.227373,
     "end_time": "2021-04-16T15:09:05.404700",
     "exception": false,
     "start_time": "2021-04-16T15:09:05.177327",
     "status": "completed"
    },
    "tags": []
   },
   "outputs": [
    {
     "data": {
      "text/html": [
       "<div>\n",
       "<style scoped>\n",
       "    .dataframe tbody tr th:only-of-type {\n",
       "        vertical-align: middle;\n",
       "    }\n",
       "\n",
       "    .dataframe tbody tr th {\n",
       "        vertical-align: top;\n",
       "    }\n",
       "\n",
       "    .dataframe thead th {\n",
       "        text-align: right;\n",
       "    }\n",
       "</style>\n",
       "<table border=\"1\" class=\"dataframe\">\n",
       "  <thead>\n",
       "    <tr style=\"text-align: right;\">\n",
       "      <th></th>\n",
       "      <th>id</th>\n",
       "      <th>vector</th>\n",
       "    </tr>\n",
       "  </thead>\n",
       "  <tbody>\n",
       "    <tr>\n",
       "      <th>0</th>\n",
       "      <td>A</td>\n",
       "      <td>[1.0, 1.0, 1.0]</td>\n",
       "    </tr>\n",
       "    <tr>\n",
       "      <th>1</th>\n",
       "      <td>B</td>\n",
       "      <td>[1.0, 2.0, 3.0]</td>\n",
       "    </tr>\n",
       "  </tbody>\n",
       "</table>\n",
       "</div>"
      ],
      "text/plain": [
       "  id           vector\n",
       "0  A  [1.0, 1.0, 1.0]\n",
       "1  B  [1.0, 2.0, 3.0]"
      ]
     },
     "execution_count": 7,
     "metadata": {},
     "output_type": "execute_result"
    }
   ],
   "source": [
    "import pandas as pd\n",
    "\n",
    "df = pd.DataFrame(\n",
    "    data={\n",
    "        \"id\": [\"A\", \"B\"], \n",
    "        \"vector\": [[1., 1., 1.], [1., 2., 3.]]\n",
    "    })\n",
    "df"
   ]
  },
  {
   "cell_type": "markdown",
   "id": "oiJKXWxoDjhK",
   "metadata": {
    "id": "oiJKXWxoDjhK",
    "papermill": {
     "duration": 0.022968,
     "end_time": "2021-04-16T15:09:05.452054",
     "exception": false,
     "start_time": "2021-04-16T15:09:05.429086",
     "status": "completed"
    },
    "tags": []
   },
   "source": [
    "We perform upsert operations in our index. This call will insert a new vector in the index or update the vector if the id was already present."
   ]
  },
  {
   "cell_type": "code",
   "execution_count": 8,
   "id": "efficient-parliament",
   "metadata": {
    "colab": {
     "base_uri": "https://localhost:8080/",
     "height": 67,
     "referenced_widgets": [
      "d66bbb5cc01e4de3aed3694b0a04b89d",
      "bb2c59f6b4634e12bb8f6d16ab39a8b6",
      "9f406efbcc594d61ad644403ce745e39",
      "ef11cd052efa4980b6c0bbf2a56cdf88",
      "9af76829ccfc4c208377e729dead9820",
      "9852a69aadff47948444425d5fc75447",
      "34bbb2d2e4964d448a43b739c193b16d",
      "c7897d65c3d043768728f757c866dae6",
      "4b1eb205a5604ccfaffc74fa36b09a19",
      "a7e77307b82c4f678b0651a9f9e12455",
      "94acfdb827794d40bc4371a1473d52cb"
     ]
    },
    "execution": {
     "iopub.execute_input": "2021-04-16T15:09:05.506668Z",
     "iopub.status.busy": "2021-04-16T15:09:05.505145Z",
     "iopub.status.idle": "2021-04-16T15:09:06.180038Z",
     "shell.execute_reply": "2021-04-16T15:09:06.179012Z"
    },
    "executionInfo": {
     "elapsed": 809,
     "status": "ok",
     "timestamp": 1617762850861,
     "user": {
      "displayName": "Rajat Tripathi",
      "photoUrl": "",
      "userId": "04027590592238680740"
     },
     "user_tz": 240
    },
    "id": "efficient-parliament",
    "outputId": "b261019d-75c4-4d56-9081-36fe30a1ccc0",
    "papermill": {
     "duration": 0.704503,
     "end_time": "2021-04-16T15:09:06.180549",
     "exception": false,
     "start_time": "2021-04-16T15:09:05.476046",
     "status": "completed"
    },
    "tags": []
   },
   "outputs": [
    {
     "data": {
      "text/plain": [
       "{'upserted_count': 2}"
      ]
     },
     "execution_count": 8,
     "metadata": {},
     "output_type": "execute_result"
    }
   ],
   "source": [
    "index.upsert(vectors=zip(df.id, df.vector))  # insert vectors"
   ]
  },
  {
   "cell_type": "code",
   "execution_count": 9,
   "id": "enclosed-performer",
   "metadata": {
    "colab": {
     "base_uri": "https://localhost:8080/"
    },
    "execution": {
     "iopub.execute_input": "2021-04-16T15:09:06.242684Z",
     "iopub.status.busy": "2021-04-16T15:09:06.241999Z",
     "iopub.status.idle": "2021-04-16T15:09:06.350759Z",
     "shell.execute_reply": "2021-04-16T15:09:06.351713Z"
    },
    "executionInfo": {
     "elapsed": 289,
     "status": "ok",
     "timestamp": 1617762856908,
     "user": {
      "displayName": "Rajat Tripathi",
      "photoUrl": "",
      "userId": "04027590592238680740"
     },
     "user_tz": 240
    },
    "id": "enclosed-performer",
    "outputId": "71619939-d375-431d-8f47-89901c6fb49e",
    "papermill": {
     "duration": 0.140473,
     "end_time": "2021-04-16T15:09:06.352169",
     "exception": false,
     "start_time": "2021-04-16T15:09:06.211696",
     "status": "completed"
    },
    "tags": []
   },
   "outputs": [
    {
     "data": {
      "text/plain": [
       "{'dimension': 3, 'namespaces': {'': {'vector_count': 2}}}"
      ]
     },
     "execution_count": 9,
     "metadata": {},
     "output_type": "execute_result"
    }
   ],
   "source": [
    "index.describe_index_stats()"
   ]
  },
  {
   "cell_type": "code",
   "execution_count": 10,
   "id": "leading-shape",
   "metadata": {
    "colab": {
     "base_uri": "https://localhost:8080/",
     "height": 84,
     "referenced_widgets": [
      "afd58d1472a7486fab2554a5af2012dc",
      "5bca4038c30d4ece9d6b13faefaf3a60",
      "65db93a768be4d01ae79b680a228a0b2",
      "fba3e04d87564a95b83dab77937640d7",
      "5c7d864ccf6b4d8ca6b046318c63773f",
      "5ec12639e0f342cc8c17ac3b51f19f95",
      "9e1733f8e6204f82b71e49deda5c737b",
      "ad47f1685b75447bad7adab4aacf3ded",
      "3707de0e180a45cd8b89a58fa8d754ad",
      "962496e0ab8949dfb8f6ba3064625f1d",
      "9bbfa34b41c24d998c49345d182dec04"
     ]
    },
    "execution": {
     "iopub.execute_input": "2021-04-16T15:09:06.422440Z",
     "iopub.status.busy": "2021-04-16T15:09:06.420935Z",
     "iopub.status.idle": "2021-04-16T15:09:08.564221Z",
     "shell.execute_reply": "2021-04-16T15:09:08.563202Z"
    },
    "executionInfo": {
     "elapsed": 599,
     "status": "ok",
     "timestamp": 1617762864396,
     "user": {
      "displayName": "Rajat Tripathi",
      "photoUrl": "",
      "userId": "04027590592238680740"
     },
     "user_tz": 240
    },
    "id": "leading-shape",
    "outputId": "be13e398-9380-4727-a1f2-9beb97fd72a5",
    "papermill": {
     "duration": 2.177493,
     "end_time": "2021-04-16T15:09:08.564594",
     "exception": false,
     "start_time": "2021-04-16T15:09:06.387101",
     "status": "completed"
    },
    "tags": []
   },
   "outputs": [
    {
     "data": {
      "text/plain": [
       "{'results': [{'matches': [{'id': 'A',\n",
       "                           'score': 0.99999994,\n",
       "                           'values': [0.99999994, 0.99999994, 0.99999994]},\n",
       "                          {'id': 'B',\n",
       "                           'score': 0.925820053,\n",
       "                           'values': [1.0, 2.0, 3.0]}],\n",
       "              'namespace': ''},\n",
       "             {'matches': [{'id': 'B',\n",
       "                           'score': 0.999999881,\n",
       "                           'values': [1.0, 2.0, 3.0]},\n",
       "                          {'id': 'A',\n",
       "                           'score': 0.925820053,\n",
       "                           'values': [0.99999994, 0.99999994, 0.99999994]}],\n",
       "              'namespace': ''}]}"
      ]
     },
     "execution_count": 10,
     "metadata": {},
     "output_type": "execute_result"
    }
   ],
   "source": [
    "index.query(\n",
    "    queries=[[2., 2., 2.], [2., 4., 6.]], \n",
    "    top_k=5, \n",
    "    include_values=True) # returns top_k matches for every query"
   ]
  },
  {
   "cell_type": "markdown",
   "id": "z5jcU5_SLMFC",
   "metadata": {
    "id": "z5jcU5_SLMFC",
    "papermill": {
     "duration": 0.035627,
     "end_time": "2021-04-16T15:09:08.629172",
     "exception": false,
     "start_time": "2021-04-16T15:09:08.593545",
     "status": "completed"
    },
    "tags": []
   },
   "source": [
    "## Delete the Index\n",
    "Delete the index once you are sure that you do not want to use it anymore. Once the index is deleted, you cannot use it again."
   ]
  },
  {
   "cell_type": "code",
   "execution_count": 11,
   "id": "indian-broadcast",
   "metadata": {
    "execution": {
     "iopub.execute_input": "2021-04-16T15:09:08.698129Z",
     "iopub.status.busy": "2021-04-16T15:09:08.697250Z",
     "iopub.status.idle": "2021-04-16T15:09:21.171092Z",
     "shell.execute_reply": "2021-04-16T15:09:21.170231Z"
    },
    "executionInfo": {
     "elapsed": 49479,
     "status": "aborted",
     "timestamp": 1617762708296,
     "user": {
      "displayName": "Rajat Tripathi",
      "photoUrl": "",
      "userId": "04027590592238680740"
     },
     "user_tz": 240
    },
    "id": "indian-broadcast",
    "papermill": {
     "duration": 12.505772,
     "end_time": "2021-04-16T15:09:21.171527",
     "exception": false,
     "start_time": "2021-04-16T15:09:08.665755",
     "status": "completed"
    },
    "tags": []
   },
   "outputs": [],
   "source": [
    "pinecone.delete_index(index_name)"
   ]
  }
 ],
 "metadata": {
  "colab": {
   "name": "hello_pinecone.ipynb",
   "provenance": [
    {
     "file_id": "https://github.com/pinecone-io/examples/blob/master/quick_tour/hello_pinecone.ipynb",
     "timestamp": 1617311470306
    }
   ]
  },
  "kernelspec": {
   "display_name": "Python 3",
   "language": "python",
   "name": "python3"
  },
  "language_info": {
   "codemirror_mode": {
    "name": "ipython",
    "version": 3
   },
   "file_extension": ".py",
   "mimetype": "text/x-python",
   "name": "python",
   "nbconvert_exporter": "python",
   "pygments_lexer": "ipython3",
   "version": "3.7.11"
  },
  "papermill": {
   "default_parameters": {},
   "duration": 52.201461,
   "end_time": "2021-04-16T15:09:21.730976",
   "environment_variables": {},
   "exception": null,
   "input_path": "/notebooks/quick_tour/hello_pinecone.ipynb",
   "output_path": "/notebooks/tmp/quick_tour/hello_pinecone.ipynb",
   "parameters": {},
   "start_time": "2021-04-16T15:08:29.529515",
   "version": "2.3.3"
  },
  "widgets": {
   "application/vnd.jupyter.widget-state+json": {
    "2a481007b8d54c30b63dcb47faa2db5c": {
     "model_module": "@jupyter-widgets/base",
     "model_name": "LayoutModel",
     "state": {
      "_model_module": "@jupyter-widgets/base",
      "_model_module_version": "1.2.0",
      "_model_name": "LayoutModel",
      "_view_count": null,
      "_view_module": "@jupyter-widgets/base",
      "_view_module_version": "1.2.0",
      "_view_name": "LayoutView",
      "align_content": null,
      "align_items": null,
      "align_self": null,
      "border": null,
      "bottom": null,
      "display": null,
      "flex": null,
      "flex_flow": null,
      "grid_area": null,
      "grid_auto_columns": null,
      "grid_auto_flow": null,
      "grid_auto_rows": null,
      "grid_column": null,
      "grid_gap": null,
      "grid_row": null,
      "grid_template_areas": null,
      "grid_template_columns": null,
      "grid_template_rows": null,
      "height": null,
      "justify_content": null,
      "justify_items": null,
      "left": null,
      "margin": null,
      "max_height": null,
      "max_width": null,
      "min_height": null,
      "min_width": null,
      "object_fit": null,
      "object_position": null,
      "order": null,
      "overflow": null,
      "overflow_x": null,
      "overflow_y": null,
      "padding": null,
      "right": null,
      "top": null,
      "visibility": null,
      "width": null
     }
    },
    "34bbb2d2e4964d448a43b739c193b16d": {
     "model_module": "@jupyter-widgets/base",
     "model_name": "LayoutModel",
     "state": {
      "_model_module": "@jupyter-widgets/base",
      "_model_module_version": "1.2.0",
      "_model_name": "LayoutModel",
      "_view_count": null,
      "_view_module": "@jupyter-widgets/base",
      "_view_module_version": "1.2.0",
      "_view_name": "LayoutView",
      "align_content": null,
      "align_items": null,
      "align_self": null,
      "border": null,
      "bottom": null,
      "display": null,
      "flex": null,
      "flex_flow": null,
      "grid_area": null,
      "grid_auto_columns": null,
      "grid_auto_flow": null,
      "grid_auto_rows": null,
      "grid_column": null,
      "grid_gap": null,
      "grid_row": null,
      "grid_template_areas": null,
      "grid_template_columns": null,
      "grid_template_rows": null,
      "height": null,
      "justify_content": null,
      "justify_items": null,
      "left": null,
      "margin": null,
      "max_height": null,
      "max_width": null,
      "min_height": null,
      "min_width": null,
      "object_fit": null,
      "object_position": null,
      "order": null,
      "overflow": null,
      "overflow_x": null,
      "overflow_y": null,
      "padding": null,
      "right": null,
      "top": null,
      "visibility": null,
      "width": null
     }
    },
    "3707de0e180a45cd8b89a58fa8d754ad": {
     "model_module": "@jupyter-widgets/base",
     "model_name": "LayoutModel",
     "state": {
      "_model_module": "@jupyter-widgets/base",
      "_model_module_version": "1.2.0",
      "_model_name": "LayoutModel",
      "_view_count": null,
      "_view_module": "@jupyter-widgets/base",
      "_view_module_version": "1.2.0",
      "_view_name": "LayoutView",
      "align_content": null,
      "align_items": null,
      "align_self": null,
      "border": null,
      "bottom": null,
      "display": null,
      "flex": null,
      "flex_flow": null,
      "grid_area": null,
      "grid_auto_columns": null,
      "grid_auto_flow": null,
      "grid_auto_rows": null,
      "grid_column": null,
      "grid_gap": null,
      "grid_row": null,
      "grid_template_areas": null,
      "grid_template_columns": null,
      "grid_template_rows": null,
      "height": null,
      "justify_content": null,
      "justify_items": null,
      "left": null,
      "margin": null,
      "max_height": null,
      "max_width": null,
      "min_height": null,
      "min_width": null,
      "object_fit": null,
      "object_position": null,
      "order": null,
      "overflow": null,
      "overflow_x": null,
      "overflow_y": null,
      "padding": null,
      "right": null,
      "top": null,
      "visibility": null,
      "width": "20px"
     }
    },
    "4b1eb205a5604ccfaffc74fa36b09a19": {
     "model_module": "@jupyter-widgets/base",
     "model_name": "LayoutModel",
     "state": {
      "_model_module": "@jupyter-widgets/base",
      "_model_module_version": "1.2.0",
      "_model_name": "LayoutModel",
      "_view_count": null,
      "_view_module": "@jupyter-widgets/base",
      "_view_module_version": "1.2.0",
      "_view_name": "LayoutView",
      "align_content": null,
      "align_items": null,
      "align_self": null,
      "border": null,
      "bottom": null,
      "display": null,
      "flex": null,
      "flex_flow": null,
      "grid_area": null,
      "grid_auto_columns": null,
      "grid_auto_flow": null,
      "grid_auto_rows": null,
      "grid_column": null,
      "grid_gap": null,
      "grid_row": null,
      "grid_template_areas": null,
      "grid_template_columns": null,
      "grid_template_rows": null,
      "height": null,
      "justify_content": null,
      "justify_items": null,
      "left": null,
      "margin": null,
      "max_height": null,
      "max_width": null,
      "min_height": null,
      "min_width": null,
      "object_fit": null,
      "object_position": null,
      "order": null,
      "overflow": null,
      "overflow_x": null,
      "overflow_y": null,
      "padding": null,
      "right": null,
      "top": null,
      "visibility": null,
      "width": "20px"
     }
    },
    "5bca4038c30d4ece9d6b13faefaf3a60": {
     "model_module": "@jupyter-widgets/base",
     "model_name": "LayoutModel",
     "state": {
      "_model_module": "@jupyter-widgets/base",
      "_model_module_version": "1.2.0",
      "_model_name": "LayoutModel",
      "_view_count": null,
      "_view_module": "@jupyter-widgets/base",
      "_view_module_version": "1.2.0",
      "_view_name": "LayoutView",
      "align_content": null,
      "align_items": null,
      "align_self": null,
      "border": null,
      "bottom": null,
      "display": null,
      "flex": null,
      "flex_flow": null,
      "grid_area": null,
      "grid_auto_columns": null,
      "grid_auto_flow": null,
      "grid_auto_rows": null,
      "grid_column": null,
      "grid_gap": null,
      "grid_row": null,
      "grid_template_areas": null,
      "grid_template_columns": null,
      "grid_template_rows": null,
      "height": null,
      "justify_content": null,
      "justify_items": null,
      "left": null,
      "margin": null,
      "max_height": null,
      "max_width": null,
      "min_height": null,
      "min_width": null,
      "object_fit": null,
      "object_position": null,
      "order": null,
      "overflow": null,
      "overflow_x": null,
      "overflow_y": null,
      "padding": null,
      "right": null,
      "top": null,
      "visibility": null,
      "width": null
     }
    },
    "5c7d864ccf6b4d8ca6b046318c63773f": {
     "model_module": "@jupyter-widgets/controls",
     "model_name": "HTMLModel",
     "state": {
      "_dom_classes": [],
      "_model_module": "@jupyter-widgets/controls",
      "_model_module_version": "1.5.0",
      "_model_name": "HTMLModel",
      "_view_count": null,
      "_view_module": "@jupyter-widgets/controls",
      "_view_module_version": "1.5.0",
      "_view_name": "HTMLView",
      "description": "",
      "description_tooltip": null,
      "layout": "IPY_MODEL_9bbfa34b41c24d998c49345d182dec04",
      "placeholder": "​",
      "style": "IPY_MODEL_962496e0ab8949dfb8f6ba3064625f1d",
      "value": " 2/? [00:00&lt;00:00,  6.21it/s]"
     }
    },
    "5e11db64bf614f46b2f003b921085b4c": {
     "model_module": "@jupyter-widgets/base",
     "model_name": "LayoutModel",
     "state": {
      "_model_module": "@jupyter-widgets/base",
      "_model_module_version": "1.2.0",
      "_model_name": "LayoutModel",
      "_view_count": null,
      "_view_module": "@jupyter-widgets/base",
      "_view_module_version": "1.2.0",
      "_view_name": "LayoutView",
      "align_content": null,
      "align_items": null,
      "align_self": null,
      "border": null,
      "bottom": null,
      "display": null,
      "flex": null,
      "flex_flow": null,
      "grid_area": null,
      "grid_auto_columns": null,
      "grid_auto_flow": null,
      "grid_auto_rows": null,
      "grid_column": null,
      "grid_gap": null,
      "grid_row": null,
      "grid_template_areas": null,
      "grid_template_columns": null,
      "grid_template_rows": null,
      "height": null,
      "justify_content": null,
      "justify_items": null,
      "left": null,
      "margin": null,
      "max_height": null,
      "max_width": null,
      "min_height": null,
      "min_width": null,
      "object_fit": null,
      "object_position": null,
      "order": null,
      "overflow": null,
      "overflow_x": null,
      "overflow_y": null,
      "padding": null,
      "right": null,
      "top": null,
      "visibility": null,
      "width": null
     }
    },
    "5ec12639e0f342cc8c17ac3b51f19f95": {
     "model_module": "@jupyter-widgets/controls",
     "model_name": "DescriptionStyleModel",
     "state": {
      "_model_module": "@jupyter-widgets/controls",
      "_model_module_version": "1.5.0",
      "_model_name": "DescriptionStyleModel",
      "_view_count": null,
      "_view_module": "@jupyter-widgets/base",
      "_view_module_version": "1.2.0",
      "_view_name": "StyleView",
      "description_width": ""
     }
    },
    "60021f075d914aeeb6c6f6c7f1fa823c": {
     "model_module": "@jupyter-widgets/controls",
     "model_name": "FloatProgressModel",
     "state": {
      "_dom_classes": [],
      "_model_module": "@jupyter-widgets/controls",
      "_model_module_version": "1.5.0",
      "_model_name": "FloatProgressModel",
      "_view_count": null,
      "_view_module": "@jupyter-widgets/controls",
      "_view_module_version": "1.5.0",
      "_view_name": "ProgressView",
      "bar_style": "success",
      "description": "",
      "description_tooltip": null,
      "layout": "IPY_MODEL_5e11db64bf614f46b2f003b921085b4c",
      "max": 2,
      "min": 0,
      "orientation": "horizontal",
      "style": "IPY_MODEL_6272429cb1734c2195a3d631cc1a0ac4",
      "value": 2
     }
    },
    "6272429cb1734c2195a3d631cc1a0ac4": {
     "model_module": "@jupyter-widgets/controls",
     "model_name": "ProgressStyleModel",
     "state": {
      "_model_module": "@jupyter-widgets/controls",
      "_model_module_version": "1.5.0",
      "_model_name": "ProgressStyleModel",
      "_view_count": null,
      "_view_module": "@jupyter-widgets/base",
      "_view_module_version": "1.2.0",
      "_view_name": "StyleView",
      "bar_color": null,
      "description_width": ""
     }
    },
    "65b3fa73dc7d443f9b437fa33d36adb2": {
     "model_module": "@jupyter-widgets/controls",
     "model_name": "HBoxModel",
     "state": {
      "_dom_classes": [],
      "_model_module": "@jupyter-widgets/controls",
      "_model_module_version": "1.5.0",
      "_model_name": "HBoxModel",
      "_view_count": null,
      "_view_module": "@jupyter-widgets/controls",
      "_view_module_version": "1.5.0",
      "_view_name": "HBoxView",
      "box_style": "",
      "children": [
       "IPY_MODEL_78a353ae3e1640e0b9fcc4316a0d64e7",
       "IPY_MODEL_60021f075d914aeeb6c6f6c7f1fa823c",
       "IPY_MODEL_827fef1b1fc34c43afc71d82e5468c67"
      ],
      "layout": "IPY_MODEL_ca0c3890309c44e491fcba4d3f8a9884"
     }
    },
    "65db93a768be4d01ae79b680a228a0b2": {
     "model_module": "@jupyter-widgets/controls",
     "model_name": "HTMLModel",
     "state": {
      "_dom_classes": [],
      "_model_module": "@jupyter-widgets/controls",
      "_model_module_version": "1.5.0",
      "_model_name": "HTMLModel",
      "_view_count": null,
      "_view_module": "@jupyter-widgets/controls",
      "_view_module_version": "1.5.0",
      "_view_name": "HTMLView",
      "description": "",
      "description_tooltip": null,
      "layout": "IPY_MODEL_9e1733f8e6204f82b71e49deda5c737b",
      "placeholder": "​",
      "style": "IPY_MODEL_5ec12639e0f342cc8c17ac3b51f19f95",
      "value": ""
     }
    },
    "6dab7dbfcaf341d5b01b14d5b758d836": {
     "model_module": "@jupyter-widgets/controls",
     "model_name": "DescriptionStyleModel",
     "state": {
      "_model_module": "@jupyter-widgets/controls",
      "_model_module_version": "1.5.0",
      "_model_name": "DescriptionStyleModel",
      "_view_count": null,
      "_view_module": "@jupyter-widgets/base",
      "_view_module_version": "1.2.0",
      "_view_name": "StyleView",
      "description_width": ""
     }
    },
    "78a353ae3e1640e0b9fcc4316a0d64e7": {
     "model_module": "@jupyter-widgets/controls",
     "model_name": "HTMLModel",
     "state": {
      "_dom_classes": [],
      "_model_module": "@jupyter-widgets/controls",
      "_model_module_version": "1.5.0",
      "_model_name": "HTMLModel",
      "_view_count": null,
      "_view_module": "@jupyter-widgets/controls",
      "_view_module_version": "1.5.0",
      "_view_name": "HTMLView",
      "description": "",
      "description_tooltip": null,
      "layout": "IPY_MODEL_b70106a15df54b0c97630f4e51ad0980",
      "placeholder": "​",
      "style": "IPY_MODEL_f8796560d16d4030b4772d9f91d9a31f",
      "value": "100%"
     }
    },
    "827fef1b1fc34c43afc71d82e5468c67": {
     "model_module": "@jupyter-widgets/controls",
     "model_name": "HTMLModel",
     "state": {
      "_dom_classes": [],
      "_model_module": "@jupyter-widgets/controls",
      "_model_module_version": "1.5.0",
      "_model_name": "HTMLModel",
      "_view_count": null,
      "_view_module": "@jupyter-widgets/controls",
      "_view_module_version": "1.5.0",
      "_view_name": "HTMLView",
      "description": "",
      "description_tooltip": null,
      "layout": "IPY_MODEL_2a481007b8d54c30b63dcb47faa2db5c",
      "placeholder": "​",
      "style": "IPY_MODEL_6dab7dbfcaf341d5b01b14d5b758d836",
      "value": " 2/2 [00:11&lt;00:00,  6.30s/it]"
     }
    },
    "94acfdb827794d40bc4371a1473d52cb": {
     "model_module": "@jupyter-widgets/base",
     "model_name": "LayoutModel",
     "state": {
      "_model_module": "@jupyter-widgets/base",
      "_model_module_version": "1.2.0",
      "_model_name": "LayoutModel",
      "_view_count": null,
      "_view_module": "@jupyter-widgets/base",
      "_view_module_version": "1.2.0",
      "_view_name": "LayoutView",
      "align_content": null,
      "align_items": null,
      "align_self": null,
      "border": null,
      "bottom": null,
      "display": null,
      "flex": null,
      "flex_flow": null,
      "grid_area": null,
      "grid_auto_columns": null,
      "grid_auto_flow": null,
      "grid_auto_rows": null,
      "grid_column": null,
      "grid_gap": null,
      "grid_row": null,
      "grid_template_areas": null,
      "grid_template_columns": null,
      "grid_template_rows": null,
      "height": null,
      "justify_content": null,
      "justify_items": null,
      "left": null,
      "margin": null,
      "max_height": null,
      "max_width": null,
      "min_height": null,
      "min_width": null,
      "object_fit": null,
      "object_position": null,
      "order": null,
      "overflow": null,
      "overflow_x": null,
      "overflow_y": null,
      "padding": null,
      "right": null,
      "top": null,
      "visibility": null,
      "width": null
     }
    },
    "962496e0ab8949dfb8f6ba3064625f1d": {
     "model_module": "@jupyter-widgets/controls",
     "model_name": "DescriptionStyleModel",
     "state": {
      "_model_module": "@jupyter-widgets/controls",
      "_model_module_version": "1.5.0",
      "_model_name": "DescriptionStyleModel",
      "_view_count": null,
      "_view_module": "@jupyter-widgets/base",
      "_view_module_version": "1.2.0",
      "_view_name": "StyleView",
      "description_width": ""
     }
    },
    "9852a69aadff47948444425d5fc75447": {
     "model_module": "@jupyter-widgets/controls",
     "model_name": "DescriptionStyleModel",
     "state": {
      "_model_module": "@jupyter-widgets/controls",
      "_model_module_version": "1.5.0",
      "_model_name": "DescriptionStyleModel",
      "_view_count": null,
      "_view_module": "@jupyter-widgets/base",
      "_view_module_version": "1.2.0",
      "_view_name": "StyleView",
      "description_width": ""
     }
    },
    "9af76829ccfc4c208377e729dead9820": {
     "model_module": "@jupyter-widgets/controls",
     "model_name": "HTMLModel",
     "state": {
      "_dom_classes": [],
      "_model_module": "@jupyter-widgets/controls",
      "_model_module_version": "1.5.0",
      "_model_name": "HTMLModel",
      "_view_count": null,
      "_view_module": "@jupyter-widgets/controls",
      "_view_module_version": "1.5.0",
      "_view_name": "HTMLView",
      "description": "",
      "description_tooltip": null,
      "layout": "IPY_MODEL_94acfdb827794d40bc4371a1473d52cb",
      "placeholder": "​",
      "style": "IPY_MODEL_a7e77307b82c4f678b0651a9f9e12455",
      "value": " 2/? [00:00&lt;00:00,  2.08it/s]"
     }
    },
    "9bbfa34b41c24d998c49345d182dec04": {
     "model_module": "@jupyter-widgets/base",
     "model_name": "LayoutModel",
     "state": {
      "_model_module": "@jupyter-widgets/base",
      "_model_module_version": "1.2.0",
      "_model_name": "LayoutModel",
      "_view_count": null,
      "_view_module": "@jupyter-widgets/base",
      "_view_module_version": "1.2.0",
      "_view_name": "LayoutView",
      "align_content": null,
      "align_items": null,
      "align_self": null,
      "border": null,
      "bottom": null,
      "display": null,
      "flex": null,
      "flex_flow": null,
      "grid_area": null,
      "grid_auto_columns": null,
      "grid_auto_flow": null,
      "grid_auto_rows": null,
      "grid_column": null,
      "grid_gap": null,
      "grid_row": null,
      "grid_template_areas": null,
      "grid_template_columns": null,
      "grid_template_rows": null,
      "height": null,
      "justify_content": null,
      "justify_items": null,
      "left": null,
      "margin": null,
      "max_height": null,
      "max_width": null,
      "min_height": null,
      "min_width": null,
      "object_fit": null,
      "object_position": null,
      "order": null,
      "overflow": null,
      "overflow_x": null,
      "overflow_y": null,
      "padding": null,
      "right": null,
      "top": null,
      "visibility": null,
      "width": null
     }
    },
    "9e1733f8e6204f82b71e49deda5c737b": {
     "model_module": "@jupyter-widgets/base",
     "model_name": "LayoutModel",
     "state": {
      "_model_module": "@jupyter-widgets/base",
      "_model_module_version": "1.2.0",
      "_model_name": "LayoutModel",
      "_view_count": null,
      "_view_module": "@jupyter-widgets/base",
      "_view_module_version": "1.2.0",
      "_view_name": "LayoutView",
      "align_content": null,
      "align_items": null,
      "align_self": null,
      "border": null,
      "bottom": null,
      "display": null,
      "flex": null,
      "flex_flow": null,
      "grid_area": null,
      "grid_auto_columns": null,
      "grid_auto_flow": null,
      "grid_auto_rows": null,
      "grid_column": null,
      "grid_gap": null,
      "grid_row": null,
      "grid_template_areas": null,
      "grid_template_columns": null,
      "grid_template_rows": null,
      "height": null,
      "justify_content": null,
      "justify_items": null,
      "left": null,
      "margin": null,
      "max_height": null,
      "max_width": null,
      "min_height": null,
      "min_width": null,
      "object_fit": null,
      "object_position": null,
      "order": null,
      "overflow": null,
      "overflow_x": null,
      "overflow_y": null,
      "padding": null,
      "right": null,
      "top": null,
      "visibility": null,
      "width": null
     }
    },
    "9f406efbcc594d61ad644403ce745e39": {
     "model_module": "@jupyter-widgets/controls",
     "model_name": "HTMLModel",
     "state": {
      "_dom_classes": [],
      "_model_module": "@jupyter-widgets/controls",
      "_model_module_version": "1.5.0",
      "_model_name": "HTMLModel",
      "_view_count": null,
      "_view_module": "@jupyter-widgets/controls",
      "_view_module_version": "1.5.0",
      "_view_name": "HTMLView",
      "description": "",
      "description_tooltip": null,
      "layout": "IPY_MODEL_34bbb2d2e4964d448a43b739c193b16d",
      "placeholder": "​",
      "style": "IPY_MODEL_9852a69aadff47948444425d5fc75447",
      "value": ""
     }
    },
    "a7e77307b82c4f678b0651a9f9e12455": {
     "model_module": "@jupyter-widgets/controls",
     "model_name": "DescriptionStyleModel",
     "state": {
      "_model_module": "@jupyter-widgets/controls",
      "_model_module_version": "1.5.0",
      "_model_name": "DescriptionStyleModel",
      "_view_count": null,
      "_view_module": "@jupyter-widgets/base",
      "_view_module_version": "1.2.0",
      "_view_name": "StyleView",
      "description_width": ""
     }
    },
    "ad47f1685b75447bad7adab4aacf3ded": {
     "model_module": "@jupyter-widgets/controls",
     "model_name": "ProgressStyleModel",
     "state": {
      "_model_module": "@jupyter-widgets/controls",
      "_model_module_version": "1.5.0",
      "_model_name": "ProgressStyleModel",
      "_view_count": null,
      "_view_module": "@jupyter-widgets/base",
      "_view_module_version": "1.2.0",
      "_view_name": "StyleView",
      "bar_color": null,
      "description_width": ""
     }
    },
    "afd58d1472a7486fab2554a5af2012dc": {
     "model_module": "@jupyter-widgets/controls",
     "model_name": "HBoxModel",
     "state": {
      "_dom_classes": [],
      "_model_module": "@jupyter-widgets/controls",
      "_model_module_version": "1.5.0",
      "_model_name": "HBoxModel",
      "_view_count": null,
      "_view_module": "@jupyter-widgets/controls",
      "_view_module_version": "1.5.0",
      "_view_name": "HBoxView",
      "box_style": "",
      "children": [
       "IPY_MODEL_65db93a768be4d01ae79b680a228a0b2",
       "IPY_MODEL_fba3e04d87564a95b83dab77937640d7",
       "IPY_MODEL_5c7d864ccf6b4d8ca6b046318c63773f"
      ],
      "layout": "IPY_MODEL_5bca4038c30d4ece9d6b13faefaf3a60"
     }
    },
    "b70106a15df54b0c97630f4e51ad0980": {
     "model_module": "@jupyter-widgets/base",
     "model_name": "LayoutModel",
     "state": {
      "_model_module": "@jupyter-widgets/base",
      "_model_module_version": "1.2.0",
      "_model_name": "LayoutModel",
      "_view_count": null,
      "_view_module": "@jupyter-widgets/base",
      "_view_module_version": "1.2.0",
      "_view_name": "LayoutView",
      "align_content": null,
      "align_items": null,
      "align_self": null,
      "border": null,
      "bottom": null,
      "display": null,
      "flex": null,
      "flex_flow": null,
      "grid_area": null,
      "grid_auto_columns": null,
      "grid_auto_flow": null,
      "grid_auto_rows": null,
      "grid_column": null,
      "grid_gap": null,
      "grid_row": null,
      "grid_template_areas": null,
      "grid_template_columns": null,
      "grid_template_rows": null,
      "height": null,
      "justify_content": null,
      "justify_items": null,
      "left": null,
      "margin": null,
      "max_height": null,
      "max_width": null,
      "min_height": null,
      "min_width": null,
      "object_fit": null,
      "object_position": null,
      "order": null,
      "overflow": null,
      "overflow_x": null,
      "overflow_y": null,
      "padding": null,
      "right": null,
      "top": null,
      "visibility": null,
      "width": null
     }
    },
    "bb2c59f6b4634e12bb8f6d16ab39a8b6": {
     "model_module": "@jupyter-widgets/base",
     "model_name": "LayoutModel",
     "state": {
      "_model_module": "@jupyter-widgets/base",
      "_model_module_version": "1.2.0",
      "_model_name": "LayoutModel",
      "_view_count": null,
      "_view_module": "@jupyter-widgets/base",
      "_view_module_version": "1.2.0",
      "_view_name": "LayoutView",
      "align_content": null,
      "align_items": null,
      "align_self": null,
      "border": null,
      "bottom": null,
      "display": null,
      "flex": null,
      "flex_flow": null,
      "grid_area": null,
      "grid_auto_columns": null,
      "grid_auto_flow": null,
      "grid_auto_rows": null,
      "grid_column": null,
      "grid_gap": null,
      "grid_row": null,
      "grid_template_areas": null,
      "grid_template_columns": null,
      "grid_template_rows": null,
      "height": null,
      "justify_content": null,
      "justify_items": null,
      "left": null,
      "margin": null,
      "max_height": null,
      "max_width": null,
      "min_height": null,
      "min_width": null,
      "object_fit": null,
      "object_position": null,
      "order": null,
      "overflow": null,
      "overflow_x": null,
      "overflow_y": null,
      "padding": null,
      "right": null,
      "top": null,
      "visibility": null,
      "width": null
     }
    },
    "c7897d65c3d043768728f757c866dae6": {
     "model_module": "@jupyter-widgets/controls",
     "model_name": "ProgressStyleModel",
     "state": {
      "_model_module": "@jupyter-widgets/controls",
      "_model_module_version": "1.5.0",
      "_model_name": "ProgressStyleModel",
      "_view_count": null,
      "_view_module": "@jupyter-widgets/base",
      "_view_module_version": "1.2.0",
      "_view_name": "StyleView",
      "bar_color": null,
      "description_width": ""
     }
    },
    "ca0c3890309c44e491fcba4d3f8a9884": {
     "model_module": "@jupyter-widgets/base",
     "model_name": "LayoutModel",
     "state": {
      "_model_module": "@jupyter-widgets/base",
      "_model_module_version": "1.2.0",
      "_model_name": "LayoutModel",
      "_view_count": null,
      "_view_module": "@jupyter-widgets/base",
      "_view_module_version": "1.2.0",
      "_view_name": "LayoutView",
      "align_content": null,
      "align_items": null,
      "align_self": null,
      "border": null,
      "bottom": null,
      "display": null,
      "flex": null,
      "flex_flow": null,
      "grid_area": null,
      "grid_auto_columns": null,
      "grid_auto_flow": null,
      "grid_auto_rows": null,
      "grid_column": null,
      "grid_gap": null,
      "grid_row": null,
      "grid_template_areas": null,
      "grid_template_columns": null,
      "grid_template_rows": null,
      "height": null,
      "justify_content": null,
      "justify_items": null,
      "left": null,
      "margin": null,
      "max_height": null,
      "max_width": null,
      "min_height": null,
      "min_width": null,
      "object_fit": null,
      "object_position": null,
      "order": null,
      "overflow": null,
      "overflow_x": null,
      "overflow_y": null,
      "padding": null,
      "right": null,
      "top": null,
      "visibility": null,
      "width": null
     }
    },
    "d66bbb5cc01e4de3aed3694b0a04b89d": {
     "model_module": "@jupyter-widgets/controls",
     "model_name": "HBoxModel",
     "state": {
      "_dom_classes": [],
      "_model_module": "@jupyter-widgets/controls",
      "_model_module_version": "1.5.0",
      "_model_name": "HBoxModel",
      "_view_count": null,
      "_view_module": "@jupyter-widgets/controls",
      "_view_module_version": "1.5.0",
      "_view_name": "HBoxView",
      "box_style": "",
      "children": [
       "IPY_MODEL_9f406efbcc594d61ad644403ce745e39",
       "IPY_MODEL_ef11cd052efa4980b6c0bbf2a56cdf88",
       "IPY_MODEL_9af76829ccfc4c208377e729dead9820"
      ],
      "layout": "IPY_MODEL_bb2c59f6b4634e12bb8f6d16ab39a8b6"
     }
    },
    "ef11cd052efa4980b6c0bbf2a56cdf88": {
     "model_module": "@jupyter-widgets/controls",
     "model_name": "FloatProgressModel",
     "state": {
      "_dom_classes": [],
      "_model_module": "@jupyter-widgets/controls",
      "_model_module_version": "1.5.0",
      "_model_name": "FloatProgressModel",
      "_view_count": null,
      "_view_module": "@jupyter-widgets/controls",
      "_view_module_version": "1.5.0",
      "_view_name": "ProgressView",
      "bar_style": "success",
      "description": "",
      "description_tooltip": null,
      "layout": "IPY_MODEL_4b1eb205a5604ccfaffc74fa36b09a19",
      "max": 1,
      "min": 0,
      "orientation": "horizontal",
      "style": "IPY_MODEL_c7897d65c3d043768728f757c866dae6",
      "value": 1
     }
    },
    "f8796560d16d4030b4772d9f91d9a31f": {
     "model_module": "@jupyter-widgets/controls",
     "model_name": "DescriptionStyleModel",
     "state": {
      "_model_module": "@jupyter-widgets/controls",
      "_model_module_version": "1.5.0",
      "_model_name": "DescriptionStyleModel",
      "_view_count": null,
      "_view_module": "@jupyter-widgets/base",
      "_view_module_version": "1.2.0",
      "_view_name": "StyleView",
      "description_width": ""
     }
    },
    "fba3e04d87564a95b83dab77937640d7": {
     "model_module": "@jupyter-widgets/controls",
     "model_name": "FloatProgressModel",
     "state": {
      "_dom_classes": [],
      "_model_module": "@jupyter-widgets/controls",
      "_model_module_version": "1.5.0",
      "_model_name": "FloatProgressModel",
      "_view_count": null,
      "_view_module": "@jupyter-widgets/controls",
      "_view_module_version": "1.5.0",
      "_view_name": "ProgressView",
      "bar_style": "success",
      "description": "",
      "description_tooltip": null,
      "layout": "IPY_MODEL_3707de0e180a45cd8b89a58fa8d754ad",
      "max": 1,
      "min": 0,
      "orientation": "horizontal",
      "style": "IPY_MODEL_ad47f1685b75447bad7adab4aacf3ded",
      "value": 1
     }
    }
   }
  }
 },
 "nbformat": 4,
 "nbformat_minor": 5
}
